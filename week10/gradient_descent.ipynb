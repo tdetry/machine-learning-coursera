{
 "cells": [
  {
   "cell_type": "code",
   "execution_count": 15,
   "metadata": {},
   "outputs": [],
   "source": [
    "import numpy as np \n",
    "from sklearn.utils import shuffle\n",
    "import scipy.optimize as op\n",
    "import matplotlib.pyplot as plt"
   ]
  },
  {
   "cell_type": "code",
   "execution_count": 16,
   "metadata": {},
   "outputs": [],
   "source": [
    "X = np.linspace(0, 100, 1000) # 1000 values between 0 and 100\n",
    "delta = np.random.uniform(-10, 10, X.size)\n",
    "y = 0.4*X + 3 + delta"
   ]
  },
  {
   "cell_type": "code",
   "execution_count": 17,
   "metadata": {},
   "outputs": [
    {
     "data": {
      "image/png": "[encoded data removed]",
      "text/plain": [
       "<Figure size 432x288 with 1 Axes>"
      ]
     },
     "metadata": {
      "needs_background": "light"
     },
     "output_type": "display_data"
    }
   ],
   "source": [
    "fig, ax = plt.subplots()\n",
    "ax.scatter(X,y)\n",
    "plt.show()"
   ]
  },
  {
   "cell_type": "code",
   "execution_count": 18,
   "metadata": {},
   "outputs": [
    {
     "name": "stdout",
     "output_type": "stream",
     "text": [
      "(1000, 1)\n",
      "(1000,)\n"
     ]
    }
   ],
   "source": [
    "X = X.reshape((-1,1))\n",
    "print(X.shape)\n",
    "print(y.shape)\n",
    "\n",
    "m, n = X.shape\n",
    "\n",
    "\n",
    "# intercept\n",
    "ones = np.ones((m, 1))\n",
    "X = np.append(ones, X, axis=1)\n",
    "n += 1\n",
    "\n",
    "# parameters\n",
    "theta0 = np.zeros(n)"
   ]
  },
  {
   "cell_type": "markdown",
   "metadata": {},
   "source": [
    "Sklearn"
   ]
  },
  {
   "cell_type": "code",
   "execution_count": 19,
   "metadata": {},
   "outputs": [
    {
     "name": "stdout",
     "output_type": "stream",
     "text": [
      "[3.28420841 0.39872793]\n"
     ]
    }
   ],
   "source": [
    "from sklearn.linear_model import LinearRegression\n",
    "reg = LinearRegression(fit_intercept=False).fit(X, y)\n",
    "print(reg.coef_)"
   ]
  },
  {
   "cell_type": "markdown",
   "metadata": {},
   "source": [
    "Gradient"
   ]
  },
  {
   "cell_type": "code",
   "execution_count": 20,
   "metadata": {},
   "outputs": [],
   "source": [
    "def J(theta, X, y):\n",
    "    m, n = X.shape \n",
    "    h = X @ theta\n",
    "    return 1 / (2 * m) * ((h-y)**2).sum()"
   ]
  },
  {
   "cell_type": "code",
   "execution_count": 21,
   "metadata": {},
   "outputs": [],
   "source": [
    "def gradient(theta, X, y):\n",
    "    if X.ndim == 1 :\n",
    "        X = X.reshape((1,len(X)))\n",
    "    \n",
    "    h = X @ theta\n",
    "    \n",
    "    return ((h - y) @ X)"
   ]
  },
  {
   "cell_type": "markdown",
   "metadata": {},
   "source": [
    "Shuffle x and y"
   ]
  },
  {
   "cell_type": "code",
   "execution_count": 22,
   "metadata": {},
   "outputs": [],
   "source": [
    "from sklearn.utils import shuffle\n",
    "X, y = shuffle(X, y, random_state=1234)"
   ]
  },
  {
   "cell_type": "markdown",
   "metadata": {},
   "source": [
    "Batch gradient"
   ]
  },
  {
   "cell_type": "code",
   "execution_count": 23,
   "metadata": {},
   "outputs": [],
   "source": [
    "def batch_gradient(theta, X, y, iters, alpha):\n",
    "    m, n = X.shape\n",
    "    cost = []\n",
    "    for i in range(iters):\n",
    "        theta = theta - ((alpha / m) * gradient(theta, X, y))\n",
    "        cost.append(J(theta, X, y))\n",
    "    return theta, cost"
   ]
  },
  {
   "cell_type": "code",
   "execution_count": 30,
   "metadata": {},
   "outputs": [
    {
     "name": "stdout",
     "output_type": "stream",
     "text": [
      "[0.39231462 0.44208789]\n"
     ]
    }
   ],
   "source": [
    "theta, cost = batch_gradient(theta0, X, y, iters=1000, alpha=0.0005)\n",
    "print(theta)"
   ]
  },
  {
   "cell_type": "markdown",
   "metadata": {},
   "source": [
    "Results bellow look so wrong, to be investigated..."
   ]
  },
  {
   "cell_type": "markdown",
   "metadata": {},
   "source": [
    "Stochastic gradient descent"
   ]
  },
  {
   "cell_type": "code",
   "execution_count": 31,
   "metadata": {},
   "outputs": [],
   "source": [
    "def stochastic_gradient(theta, X, y, alpha):\n",
    "    m, n = X.shape\n",
    "    cost = []\n",
    "    for i, x in enumerate(X):\n",
    "        theta = theta - alpha * gradient(theta, x, y[i])\n",
    "        cost.append(J(theta, X, y))\n",
    "    return theta, cost"
   ]
  },
  {
   "cell_type": "code",
   "execution_count": 32,
   "metadata": {},
   "outputs": [
    {
     "name": "stdout",
     "output_type": "stream",
     "text": [
      "[74.31556843  0.62457939]\n"
     ]
    }
   ],
   "source": [
    "theta, cost = stochastic_gradient(theta0, X, y, alpha=0.0005)\n",
    "print(theta)"
   ]
  },
  {
   "cell_type": "markdown",
   "metadata": {},
   "source": [
    "Mini batch gradient"
   ]
  },
  {
   "cell_type": "code",
   "execution_count": 33,
   "metadata": {},
   "outputs": [],
   "source": [
    "def mini_batch_gradient(theta, X, y, alpha, beta):\n",
    "    m, n = X.shape\n",
    "    cost = []\n",
    "    for i, x in enumerate(X):\n",
    "        if (i % beta == 0):\n",
    "            theta = theta - ((alpha / beta) * gradient(theta, X[i:i+beta], y[i:i+beta]))\n",
    "            cost.append(J(theta, X, y))\n",
    "    return theta, cost"
   ]
  },
  {
   "cell_type": "code",
   "execution_count": 34,
   "metadata": {},
   "outputs": [
    {
     "name": "stdout",
     "output_type": "stream",
     "text": [
      "[0.04973832 0.42169068]\n"
     ]
    }
   ],
   "source": [
    "theta, cost = mini_batch_gradient(theta0, X, y, alpha=0.0005, beta=10)\n",
    "print(theta)"
   ]
  },
  {
   "cell_type": "code",
   "execution_count": 38,
   "metadata": {},
   "outputs": [
    {
     "name": "stdout",
     "output_type": "stream",
     "text": [
      "-- batch = 10 => mini batch gradient --\n",
      "[0.04713735 0.47027965]\n",
      "-- batch = 1 => stochastic gradient --\n",
      "[70.03776976  0.4477218 ]\n",
      "-- stochastic gradient --\n",
      "[70.03776976  0.4477218 ]\n"
     ]
    }
   ],
   "source": [
    "from sklearn.utils import shuffle\n",
    "X, y = shuffle(X, y, random_state=1234)\n",
    "\n",
    "print('-- batch = 10 => mini batch gradient --')\n",
    "theta, cost = mini_batch_gradient(theta0, X, y, alpha=0.0005, beta=10)\n",
    "print(theta)\n",
    "\n",
    "print('-- batch = 1 => stochastic gradient --')\n",
    "theta, cost = mini_batch_gradient(theta0, X, y, alpha=0.0005, beta=1)\n",
    "print(theta)\n",
    "\n",
    "print('-- stochastic gradient --')\n",
    "theta, cost = stochastic_gradient(theta0, X, y, alpha=0.0005)\n",
    "print(theta)"
   ]
  },
  {
   "cell_type": "markdown",
   "metadata": {},
   "source": [
    "Scipy"
   ]
  },
  {
   "cell_type": "code",
   "execution_count": 37,
   "metadata": {},
   "outputs": [
    {
     "name": "stdout",
     "output_type": "stream",
     "text": [
      "[3.43252428 0.39670134]\n"
     ]
    }
   ],
   "source": [
    "# check gradient function\n",
    "def linear_regression(X, y, theta):\n",
    "    result = op.minimize(fun=J, x0=theta, args=(X, y), method='TNC', jac=gradient)\n",
    "    return result.x\n",
    "theta = linear_regression(X, y, theta)\n",
    "print(theta)"
   ]
  },
  {
   "cell_type": "code",
   "execution_count": null,
   "metadata": {},
   "outputs": [],
   "source": []
  }
 ],
 "metadata": {
  "kernelspec": {
   "display_name": "Python 3",
   "language": "python",
   "name": "python3"
  },
  "language_info": {
   "codemirror_mode": {
    "name": "ipython",
    "version": 3
   },
   "file_extension": ".py",
   "mimetype": "text/x-python",
   "name": "python",
   "nbconvert_exporter": "python",
   "pygments_lexer": "ipython3",
   "version": "3.6.6"
  }
 },
 "nbformat": 4,
 "nbformat_minor": 2
}
