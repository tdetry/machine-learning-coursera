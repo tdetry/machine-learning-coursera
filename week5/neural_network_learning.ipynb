{
 "cells": [
  {
   "cell_type": "markdown",
   "metadata": {},
   "source": [
    "How to train a a Neural Network?\n",
    "\n",
    "1. Randomly initialize the weights\n",
    "2. Implement forward propagation to get h for any x\n",
    "3. Implement the cost function\n",
    "4. Implement backpropagation to compute partial derivatives\n",
    "5. Use gradient checking to confirm that your backpropagation works. Then disable gradient checking.\n",
    "6. Use gradient descent or a built-in optimization function to minimize the cost function with the weights in theta.\n",
    "7. When we perform forward and back propagation, we loop on every training example\n"
   ]
  },
  {
   "cell_type": "code",
   "execution_count": 1,
   "metadata": {},
   "outputs": [],
   "source": [
    "import numpy as np\n",
    "from sklearn.metrics import classification_report\n",
    "import matplotlib.pyplot as plt\n",
    "from scipy import optimize as op\n",
    "import scipy.io as sio"
   ]
  },
  {
   "cell_type": "markdown",
   "metadata": {},
   "source": [
    "Let's load the data"
   ]
  },
  {
   "cell_type": "code",
   "execution_count": 2,
   "metadata": {},
   "outputs": [],
   "source": [
    "data = sio.loadmat('./data/ex4data1.mat')"
   ]
  },
  {
   "cell_type": "code",
   "execution_count": 3,
   "metadata": {},
   "outputs": [
    {
     "data": {
      "text/plain": [
       "(5000, 400)"
      ]
     },
     "execution_count": 3,
     "metadata": {},
     "output_type": "execute_result"
    }
   ],
   "source": [
    "X = data['X']\n",
    "X.shape"
   ]
  },
  {
   "cell_type": "code",
   "execution_count": 4,
   "metadata": {},
   "outputs": [
    {
     "data": {
      "text/plain": [
       "(5000,)"
      ]
     },
     "execution_count": 4,
     "metadata": {},
     "output_type": "execute_result"
    }
   ],
   "source": [
    "y = data['y'].reshape(len(data['y']))\n",
    "y.shape"
   ]
  },
  {
   "cell_type": "markdown",
   "metadata": {},
   "source": [
    "y needs to be encoded"
   ]
  },
  {
   "cell_type": "code",
   "execution_count": 5,
   "metadata": {},
   "outputs": [],
   "source": [
    "def encode_y(y, K):\n",
    "    m = len(y)\n",
    "    y_encoded = np.zeros((m, K))\n",
    "    for i in range(m):\n",
    "        y_encoded[i,y[i]-1] = 1\n",
    "    return y_encoded    "
   ]
  },
  {
   "cell_type": "code",
   "execution_count": 6,
   "metadata": {},
   "outputs": [
    {
     "data": {
      "text/plain": [
       "(5000, 10)"
      ]
     },
     "execution_count": 6,
     "metadata": {},
     "output_type": "execute_result"
    }
   ],
   "source": [
    "y_encoded = encode_y(y, 10)\n",
    "y_encoded.shape"
   ]
  },
  {
   "cell_type": "code",
   "execution_count": 7,
   "metadata": {},
   "outputs": [
    {
     "name": "stdout",
     "output_type": "stream",
     "text": [
      "[0. 1. 0. 0. 0. 0. 0. 0. 0. 0.] 2\n"
     ]
    }
   ],
   "source": [
    "print(y_encoded[1000], y[1000])"
   ]
  },
  {
   "cell_type": "code",
   "execution_count": 8,
   "metadata": {},
   "outputs": [],
   "source": [
    "def show_image(x):\n",
    "    digit = x.reshape(20,20, order='F')\n",
    "    plt.imshow(digit, cmap='gray')\n",
    "    plt.show()"
   ]
  },
  {
   "cell_type": "code",
   "execution_count": 9,
   "metadata": {},
   "outputs": [
    {
     "name": "stdout",
     "output_type": "stream",
     "text": [
      "2\n"
     ]
    },
    {
     "data": {
      "image/png": "[encoded data removed]",
      "text/plain": [
       "<Figure size 432x288 with 1 Axes>"
      ]
     },
     "metadata": {
      "needs_background": "light"
     },
     "output_type": "display_data"
    }
   ],
   "source": [
    "print(y[1000])\n",
    "show_image(X[1000])"
   ]
  },
  {
   "cell_type": "markdown",
   "metadata": {},
   "source": [
    "Architecture:  \n",
    "Fully connected\n",
    "- 1 input layer with 400 + 1 units\n",
    "- 1 hidden layer with 25 + 1 untis\n",
    "- 1 output layer with 10 units\n"
   ]
  },
  {
   "cell_type": "markdown",
   "metadata": {},
   "source": [
    "Inital theta"
   ]
  },
  {
   "cell_type": "code",
   "execution_count": 12,
   "metadata": {},
   "outputs": [],
   "source": [
    "theta = sio.loadmat('./data/ex4weights.mat')\n",
    "theta1 = np.array(theta['Theta1'])\n",
    "theta2 = np.array(theta['Theta2'])\n",
    "theta = np.append(theta1, theta2)"
   ]
  },
  {
   "cell_type": "code",
   "execution_count": 13,
   "metadata": {},
   "outputs": [
    {
     "data": {
      "text/plain": [
       "(25, 401)"
      ]
     },
     "execution_count": 13,
     "metadata": {},
     "output_type": "execute_result"
    }
   ],
   "source": [
    "theta1.shape"
   ]
  },
  {
   "cell_type": "code",
   "execution_count": 14,
   "metadata": {},
   "outputs": [
    {
     "data": {
      "text/plain": [
       "(10, 26)"
      ]
     },
     "execution_count": 14,
     "metadata": {},
     "output_type": "execute_result"
    }
   ],
   "source": [
    "theta2.shape"
   ]
  },
  {
   "cell_type": "markdown",
   "metadata": {},
   "source": [
    "Cost function"
   ]
  },
  {
   "cell_type": "code",
   "execution_count": 15,
   "metadata": {},
   "outputs": [],
   "source": [
    "def sigmoid(x):                                        \n",
    "    return 1.0 / (1 + np.exp(-x))  "
   ]
  },
  {
   "cell_type": "code",
   "execution_count": 16,
   "metadata": {},
   "outputs": [],
   "source": [
    "def h(theta1, theta2, x):\n",
    "    z2 = theta1 @ x\n",
    "    a2 = sigmoid(z2)\n",
    "    \n",
    "    #bias\n",
    "    a2 = np.insert(a2, 0, 1, axis=0)\n",
    "    \n",
    "    z3 = theta2 @ a2\n",
    "    a3 = sigmoid(z3)\n",
    "    \n",
    "    return a3, z3, a2, z2"
   ]
  },
  {
   "cell_type": "code",
   "execution_count": 17,
   "metadata": {},
   "outputs": [],
   "source": [
    "def compute_cost_one_obs(theta1, theta2, y, x):\n",
    "    k = - y * np.log(h(theta1, theta2, x)[0]) - (1 - y) *  np.log(1 - h(theta1, theta2, x)[0])\n",
    "    return k.sum()"
   ]
  },
  {
   "cell_type": "code",
   "execution_count": 18,
   "metadata": {},
   "outputs": [],
   "source": [
    "# set lambda_ to zero for no regulation\n",
    "def cost_function(theta, y, X, \n",
    "                     input_layer_size = 400,\n",
    "                     hidden_layer_size = 25,\n",
    "                     output_layer_size = 10,\n",
    "                     lambda_ = 1):\n",
    "    \n",
    "    m = X.shape[0]\n",
    "    \n",
    "    # unroll and reshape theta\n",
    "    theta1 = theta[0:((input_layer_size+1)*hidden_layer_size)]\n",
    "    theta1 = theta1.reshape(hidden_layer_size, input_layer_size+1)\n",
    "    \n",
    "    theta2 = theta[(input_layer_size+1)*hidden_layer_size:]\n",
    "    theta2 = theta2.reshape(output_layer_size, hidden_layer_size+1)\n",
    "    \n",
    "    # intercept\n",
    "    intercept = np.ones((m, 1))\n",
    "    X = np.hstack((intercept, X))\n",
    "    \n",
    "    cost = 0\n",
    "\n",
    "    for i in range(m):\n",
    "        cost = cost + compute_cost_one_obs(theta1, theta2, y[i], X[i])\n",
    "    \n",
    "    reg = np.sum(theta1[:,1:]**2) + np.sum(theta2[:,1:]**2)\n",
    "\n",
    "    cost = (cost/m) + (lambda_/(2*m)) * reg\n",
    "    #print(cost)\n",
    "    return cost"
   ]
  },
  {
   "cell_type": "code",
   "execution_count": 19,
   "metadata": {},
   "outputs": [
    {
     "name": "stdout",
     "output_type": "stream",
     "text": [
      "0.28762916516131887\n",
      "0.3837698590909236\n"
     ]
    }
   ],
   "source": [
    "# match with exo 1.3\n",
    "print(cost_function(theta, y_encoded, X, lambda_=0))\n",
    "# match with exo 1.4\n",
    "print(cost_function(theta, y_encoded, X, lambda_=1))"
   ]
  },
  {
   "cell_type": "markdown",
   "metadata": {},
   "source": [
    "Random initialization. Important, else the parameters are symmetric"
   ]
  },
  {
   "cell_type": "code",
   "execution_count": 22,
   "metadata": {},
   "outputs": [],
   "source": [
    "def random_theta(L_output, L_input, epsilon = 0.12):\n",
    "    W = np.random.rand(L_output, L_input + 1)\n",
    "    return W * 2 * epsilon - epsilon"
   ]
  },
  {
   "cell_type": "code",
   "execution_count": 23,
   "metadata": {},
   "outputs": [
    {
     "data": {
      "text/plain": [
       "(10285,)"
      ]
     },
     "execution_count": 23,
     "metadata": {},
     "output_type": "execute_result"
    }
   ],
   "source": [
    "theta0 = np.append(random_theta(25,400), random_theta(10,25))\n",
    "theta0.shape"
   ]
  },
  {
   "cell_type": "markdown",
   "metadata": {},
   "source": [
    "Gradient"
   ]
  },
  {
   "cell_type": "code",
   "execution_count": 24,
   "metadata": {},
   "outputs": [],
   "source": [
    "def sigmoid_gradient(z):\n",
    "    return sigmoid(z) * (1-sigmoid(z))"
   ]
  },
  {
   "cell_type": "code",
   "execution_count": 25,
   "metadata": {},
   "outputs": [],
   "source": [
    "def gradient(theta, y, X,\n",
    "                input_layer_size = 400,\n",
    "                hidden_layer_size = 25,\n",
    "                output_layer_size = 10):\n",
    "    \n",
    "    m = X.shape[0]\n",
    "    \n",
    "    # unroll theta\n",
    "    theta1 = theta[0:((input_layer_size+1)*hidden_layer_size)]\n",
    "    theta1 = theta1.reshape(hidden_layer_size, input_layer_size+1)\n",
    "    \n",
    "    theta2 = theta[(input_layer_size+1)*hidden_layer_size:]\n",
    "    theta2 = theta2.reshape(output_layer_size, hidden_layer_size+1)\n",
    "   \n",
    "    # intercept\n",
    "    intercept = np.ones((m, 1))\n",
    "    X = np.hstack((intercept, X))\n",
    "    \n",
    "    # intialise gradient to 0\n",
    "    grad_theta1 = np.zeros([hidden_layer_size, input_layer_size+1])\n",
    "    grad_theta2 = np.zeros([output_layer_size, hidden_layer_size+1])\n",
    "    \n",
    "    for i in range(m):\n",
    "        a1 = X[i]\n",
    "        # steps 1: forward propagation\n",
    "        a3, z3, a2, z2 = h(theta1, theta2, X[i])\n",
    "        z2 = np.insert(z2, 0, 1)\n",
    "        \n",
    "        # step 2: 'error' output layer       \n",
    "        delta3 = a3 - y[i]\n",
    "\n",
    "        # step 3: 'error' hidden layer \n",
    "        \n",
    "        g2 = sigmoid_gradient(z2) \n",
    "        delta2 = (theta2.T @ delta3) * g2\n",
    "           \n",
    "        # step 4: accumulator\n",
    "        grad_theta1 = grad_theta1 + (np.reshape(delta2[1:], (len(delta2[1:]),1)) * np.reshape(a1, (len(a1),1)).T)\n",
    "        grad_theta2 = grad_theta2 + (np.reshape(delta3, (len(delta3),1)) * np.reshape(a2, (len(a2),1)).T)\n",
    "        \n",
    "    grad_theta = np.append(grad_theta1, grad_theta2) / m\n",
    "\n",
    "    return grad_theta"
   ]
  },
  {
   "cell_type": "code",
   "execution_count": 27,
   "metadata": {},
   "outputs": [
    {
     "data": {
      "text/plain": [
       "(10285,)"
      ]
     },
     "execution_count": 27,
     "metadata": {},
     "output_type": "execute_result"
    }
   ],
   "source": [
    "#  debug :-)\n",
    "gradient(theta0, y_encoded, X).shape"
   ]
  },
  {
   "cell_type": "markdown",
   "metadata": {},
   "source": [
    "Gradient checking  "
   ]
  },
  {
   "cell_type": "code",
   "execution_count": 28,
   "metadata": {},
   "outputs": [],
   "source": [
    "def gradient_check(theta, y, X):  \n",
    "    n = theta.shape[0]\n",
    "    e = 1e-4\n",
    "    \n",
    "    to_check = np.zeros(theta.shape)\n",
    "    perturb = np.zeros(theta.shape)\n",
    "    \n",
    "    grad = gradient(theta, y, X)\n",
    "    \n",
    "    for i in range(n):\n",
    "        perturb[i] = e\n",
    "        loss1 = cost_function((theta - perturb), y, X)\n",
    "        loss2 = cost_function((theta + perturb), y, X)\n",
    "        numerical_gradient = (loss2 - loss1) / (2*e)\n",
    "        to_check[i] = numerical_gradient\n",
    "        perturb[i] = 0        \n",
    "        \n",
    "        print('---')\n",
    "        print(to_check[i] - grad[i])\n",
    "\n",
    "        if i == 5:\n",
    "            break\n",
    "        \n",
    "    return grad, to_check"
   ]
  },
  {
   "cell_type": "markdown",
   "metadata": {},
   "source": [
    "Should be implemented for smaller network, but looks OK. To check, why not for first result?"
   ]
  },
  {
   "cell_type": "code",
   "execution_count": 30,
   "metadata": {},
   "outputs": [
    {
     "name": "stdout",
     "output_type": "stream",
     "text": [
      "---\n",
      "14.055743036996203\n",
      "---\n",
      "-2.5568169803591445e-06\n",
      "---\n",
      "-1.6638068700558506e-05\n",
      "---\n",
      "7.937265159815873e-06\n",
      "---\n",
      "-2.9369112943884618e-05\n",
      "---\n",
      "-6.427457031390083e-05\n"
     ]
    }
   ],
   "source": [
    "a = gradient_check(theta0, y, X)"
   ]
  },
  {
   "cell_type": "markdown",
   "metadata": {},
   "source": [
    "Neural network"
   ]
  },
  {
   "cell_type": "code",
   "execution_count": 31,
   "metadata": {},
   "outputs": [],
   "source": [
    "def neural_network(theta, y, X):\n",
    "    result = op.minimize(fun=cost_function, x0=theta, args=(y, X), \n",
    "                         method='TNC', jac=gradient, options={'maxiter':100})\n",
    "    return result.x"
   ]
  },
  {
   "cell_type": "code",
   "execution_count": 32,
   "metadata": {},
   "outputs": [],
   "source": [
    "optimal_theta = neural_network(theta0, y_encoded, X)"
   ]
  },
  {
   "cell_type": "code",
   "execution_count": 33,
   "metadata": {},
   "outputs": [],
   "source": [
    "def predict(theta, x): \n",
    "    input_layer_size = 400\n",
    "    hidden_layer_size = 25\n",
    "    output_layer_size, L = 10, 10\n",
    "    \n",
    "    theta1 = theta[0:((input_layer_size+1)*hidden_layer_size)]\n",
    "    theta1 = theta1.reshape(hidden_layer_size, input_layer_size+1)\n",
    "    \n",
    "    theta2 = theta[(input_layer_size+1)*hidden_layer_size:]\n",
    "    theta2 = theta2.reshape(output_layer_size, hidden_layer_size+1)\n",
    "    \n",
    "    # intercept\n",
    "    x = np.insert(x, 0, 1)\n",
    "    \n",
    "    a3 = h(theta1, theta2, x)[0]\n",
    "    y = np.argmax(a3) + 1\n",
    "    \n",
    "    return y"
   ]
  },
  {
   "cell_type": "code",
   "execution_count": 34,
   "metadata": {},
   "outputs": [],
   "source": [
    "y_pred = np.array([predict(optimal_theta, i) for i in X])"
   ]
  },
  {
   "cell_type": "code",
   "execution_count": 35,
   "metadata": {},
   "outputs": [
    {
     "name": "stdout",
     "output_type": "stream",
     "text": [
      "              precision    recall  f1-score   support\n",
      "\n",
      "           1       0.98      0.98      0.98       500\n",
      "           2       0.97      0.96      0.96       500\n",
      "           3       0.95      0.95      0.95       500\n",
      "           4       0.96      0.98      0.97       500\n",
      "           5       0.96      0.96      0.96       500\n",
      "           6       0.98      0.98      0.98       500\n",
      "           7       0.96      0.97      0.96       500\n",
      "           8       0.96      0.97      0.97       500\n",
      "           9       0.96      0.94      0.95       500\n",
      "          10       0.99      0.99      0.99       500\n",
      "\n",
      "   micro avg       0.97      0.97      0.97      5000\n",
      "   macro avg       0.97      0.97      0.97      5000\n",
      "weighted avg       0.97      0.97      0.97      5000\n",
      "\n"
     ]
    }
   ],
   "source": [
    "print(classification_report(y, y_pred))"
   ]
  },
  {
   "cell_type": "markdown",
   "metadata": {},
   "source": [
    "Have a look at what's happening inside network;"
   ]
  },
  {
   "cell_type": "code",
   "execution_count": 36,
   "metadata": {},
   "outputs": [
    {
     "data": {
      "image/png": "[encoded data removed]",
      "text/plain": [
       "<Figure size 432x288 with 1 Axes>"
      ]
     },
     "metadata": {
      "needs_background": "light"
     },
     "output_type": "display_data"
    },
    {
     "data": {
      "image/png": "[encoded data removed]",
      "text/plain": [
       "<Figure size 432x288 with 1 Axes>"
      ]
     },
     "metadata": {
      "needs_background": "light"
     },
     "output_type": "display_data"
    },
    {
     "data": {
      "image/png": "[encoded data removed]",
      "text/plain": [
       "<Figure size 432x288 with 1 Axes>"
      ]
     },
     "metadata": {
      "needs_background": "light"
     },
     "output_type": "display_data"
    },
    {
     "data": {
      "image/png": "[encoded data removed]",
      "text/plain": [
       "<Figure size 432x288 with 1 Axes>"
      ]
     },
     "metadata": {
      "needs_background": "light"
     },
     "output_type": "display_data"
    },
    {
     "data": {
      "image/png": "[encoded data removed]",
      "text/plain": [
       "<Figure size 432x288 with 1 Axes>"
      ]
     },
     "metadata": {
      "needs_background": "light"
     },
     "output_type": "display_data"
    },
    {
     "data": {
      "image/png": "[encoded data removed]",
      "text/plain": [
       "<Figure size 432x288 with 1 Axes>"
      ]
     },
     "metadata": {
      "needs_background": "light"
     },
     "output_type": "display_data"
    },
    {
     "data": {
      "image/png": "[encoded data removed]",
      "text/plain": [
       "<Figure size 432x288 with 1 Axes>"
      ]
     },
     "metadata": {
      "needs_background": "light"
     },
     "output_type": "display_data"
    },
    {
     "data": {
      "image/png": "[encoded data removed]",
      "text/plain": [
       "<Figure size 432x288 with 1 Axes>"
      ]
     },
     "metadata": {
      "needs_background": "light"
     },
     "output_type": "display_data"
    },
    {
     "data": {
      "image/png": "[encoded data removed]",
      "text/plain": [
       "<Figure size 432x288 with 1 Axes>"
      ]
     },
     "metadata": {
      "needs_background": "light"
     },
     "output_type": "display_data"
    },
    {
     "data": {
      "image/png": "[encoded data removed]",
      "text/plain": [
       "<Figure size 432x288 with 1 Axes>"
      ]
     },
     "metadata": {
      "needs_background": "light"
     },
     "output_type": "display_data"
    },
    {
     "data": {
      "image/png": "[encoded data removed]",
      "text/plain": [
       "<Figure size 432x288 with 1 Axes>"
      ]
     },
     "metadata": {
      "needs_background": "light"
     },
     "output_type": "display_data"
    },
    {
     "data": {
      "image/png": "[encoded data removed]",
      "text/plain": [
       "<Figure size 432x288 with 1 Axes>"
      ]
     },
     "metadata": {
      "needs_background": "light"
     },
     "output_type": "display_data"
    },
    {
     "data": {
      "image/png": "[encoded data removed]",
      "text/plain": [
       "<Figure size 432x288 with 1 Axes>"
      ]
     },
     "metadata": {
      "needs_background": "light"
     },
     "output_type": "display_data"
    },
    {
     "data": {
      "image/png": "[encoded data removed]",
      "text/plain": [
       "<Figure size 432x288 with 1 Axes>"
      ]
     },
     "metadata": {
      "needs_background": "light"
     },
     "output_type": "display_data"
    },
    {
     "data": {
      "image/png": "[encoded data removed]",
      "text/plain": [
       "<Figure size 432x288 with 1 Axes>"
      ]
     },
     "metadata": {
      "needs_background": "light"
     },
     "output_type": "display_data"
    },
    {
     "data": {
      "image/png": "[encoded data removed]",
      "text/plain": [
       "<Figure size 432x288 with 1 Axes>"
      ]
     },
     "metadata": {
      "needs_background": "light"
     },
     "output_type": "display_data"
    },
    {
     "data": {
      "image/png": "[encoded data removed]",
      "text/plain": [
       "<Figure size 432x288 with 1 Axes>"
      ]
     },
     "metadata": {
      "needs_background": "light"
     },
     "output_type": "display_data"
    },
    {
     "data": {
      "image/png": "[encoded data removed]",
      "text/plain": [
       "<Figure size 432x288 with 1 Axes>"
      ]
     },
     "metadata": {
      "needs_background": "light"
     },
     "output_type": "display_data"
    },
    {
     "data": {
      "image/png": "[encoded data removed]",
      "text/plain": [
       "<Figure size 432x288 with 1 Axes>"
      ]
     },
     "metadata": {
      "needs_background": "light"
     },
     "output_type": "display_data"
    },
    {
     "data": {
      "image/png": "[encoded data removed]",
      "text/plain": [
       "<Figure size 432x288 with 1 Axes>"
      ]
     },
     "metadata": {
      "needs_background": "light"
     },
     "output_type": "display_data"
    },
    {
     "data": {
      "image/png": "[encoded data removed]",
      "text/plain": [
       "<Figure size 432x288 with 1 Axes>"
      ]
     },
     "metadata": {
      "needs_background": "light"
     },
     "output_type": "display_data"
    },
    {
     "data": {
      "image/png": "[encoded data removed]",
      "text/plain": [
       "<Figure size 432x288 with 1 Axes>"
      ]
     },
     "metadata": {
      "needs_background": "light"
     },
     "output_type": "display_data"
    },
    {
     "data": {
      "image/png": "[encoded data removed]",
      "text/plain": [
       "<Figure size 432x288 with 1 Axes>"
      ]
     },
     "metadata": {
      "needs_background": "light"
     },
     "output_type": "display_data"
    },
    {
     "data": {
      "image/png": "[encoded data removed]",
      "text/plain": [
       "<Figure size 432x288 with 1 Axes>"
      ]
     },
     "metadata": {
      "needs_background": "light"
     },
     "output_type": "display_data"
    }
   ],
   "source": [
    "for i in range(25):\n",
    "    if i>0:\n",
    "        show_image(optimal_theta[i*400:(i+1)*400]) "
   ]
  },
  {
   "cell_type": "markdown",
   "metadata": {},
   "source": [
    "Just rewritted  what's above with some cleaning..  "
   ]
  },
  {
   "cell_type": "code",
   "execution_count": 37,
   "metadata": {},
   "outputs": [],
   "source": [
    "def initialise_theta(number_theta, epsilon = 0.12):\n",
    "    W = np.random.rand(number_theta)\n",
    "    return W * 2 * epsilon - epsilon"
   ]
  },
  {
   "cell_type": "code",
   "execution_count": 38,
   "metadata": {},
   "outputs": [],
   "source": [
    "def sigmoid(x):                                        \n",
    "    return 1.0 / (1 + np.exp(-x))  "
   ]
  },
  {
   "cell_type": "code",
   "execution_count": 39,
   "metadata": {},
   "outputs": [],
   "source": [
    "def sigmoid_gradient(z):\n",
    "    return sigmoid(z) * (1-sigmoid(z))"
   ]
  },
  {
   "cell_type": "code",
   "execution_count": 40,
   "metadata": {},
   "outputs": [],
   "source": [
    "def h(theta1, theta2, x):\n",
    "    z2 = theta1 @ x\n",
    "    a2 = sigmoid(z2)\n",
    "    \n",
    "    #bias\n",
    "    a2 = np.insert(a2, 0, 1, axis=0)\n",
    "    \n",
    "    z3 = theta2 @ a2\n",
    "    a3 = sigmoid(z3)\n",
    "    \n",
    "    return a3, z3, a2, z2"
   ]
  },
  {
   "cell_type": "code",
   "execution_count": 41,
   "metadata": {},
   "outputs": [],
   "source": [
    "def compute_cost_one_obs(theta1, theta2, y, x):\n",
    "    k = - y * np.log(h(theta1, theta2, x)[0]) - (1 - y) *  np.log(1 - h(theta1, theta2, x)[0])\n",
    "    return k.sum()"
   ]
  },
  {
   "cell_type": "code",
   "execution_count": 42,
   "metadata": {},
   "outputs": [],
   "source": [
    "def gradient(theta, X, y, hidden_units, _lambda):\n",
    "    \n",
    "    # unroll and reshape theta\n",
    "    m, n = X.shape\n",
    "    k = y.shape[1]\n",
    "    \n",
    "    theta1 = theta[0:(n*hidden_units)].reshape(hidden_units, n)\n",
    "    theta2 = theta[n*(hidden_units):].reshape(k, (hidden_units+1))     \n",
    "    \n",
    "    # intialise gradient to 0\n",
    "    grad_theta1 = np.zeros(theta1.shape)\n",
    "    grad_theta2 = np.zeros(theta2.shape)\n",
    "    \n",
    "    for i in range(m):\n",
    "        a1 = X[i]\n",
    "        \n",
    "        # steps 1: forward propagation\n",
    "        a3, z3, a2, z2 = h(theta1, theta2, X[i])\n",
    "        z2 = np.insert(z2, 0, 1)\n",
    "        \n",
    "        # step 2: 'error' output layer       \n",
    "        delta3 = a3 - y[i]\n",
    "\n",
    "        # step 3: 'error' hidden layer \n",
    "        g2 = sigmoid_gradient(z2) \n",
    "        delta2 = (theta2.T @ delta3) * g2\n",
    "           \n",
    "        # step 4: accumulator\n",
    "        grad_theta1 = grad_theta1 + (np.reshape(delta2[1:], (len(delta2[1:]),1)) * np.reshape(a1, (len(a1),1)).T)\n",
    "        grad_theta2 = grad_theta2 + (np.reshape(delta3, (len(delta3),1)) * np.reshape(a2, (len(a2),1)).T)\n",
    "        \n",
    "    grad_theta = np.append(grad_theta1, grad_theta2) / m\n",
    "    \n",
    "    return grad_theta"
   ]
  },
  {
   "cell_type": "code",
   "execution_count": 43,
   "metadata": {},
   "outputs": [],
   "source": [
    "def loss(theta, X, y, hidden_units, _lambda):\n",
    "    \n",
    "    # unroll and reshape theta\n",
    "    m, n = X.shape\n",
    "    k = y.shape[1]\n",
    "    \n",
    "    theta1 = theta[0:(n*hidden_units)].reshape(hidden_units, n)\n",
    "    theta2 = theta[n*(hidden_units):].reshape(k, (hidden_units+1))  \n",
    "    \n",
    "    cost = 0\n",
    "\n",
    "    for i in range(m):\n",
    "        cost = cost + compute_cost_one_obs(theta1, theta2, y[i], X[i])\n",
    "    \n",
    "    reg = np.sum(theta1[:,1:]**2) + np.sum(theta2[:,1:]**2)\n",
    "\n",
    "    cost = (cost/m) + (_lambda/(2*m)) * reg\n",
    "    \n",
    "    return cost"
   ]
  },
  {
   "cell_type": "code",
   "execution_count": 44,
   "metadata": {},
   "outputs": [],
   "source": [
    "def one_layer_neural_network(X, y, hidden_units=25):\n",
    "    \n",
    "    # intercept\n",
    "    intercept = np.ones((len(X), 1))\n",
    "    X = np.hstack((intercept, X)) \n",
    "    \n",
    "    m, n = X.shape\n",
    "    k = y.shape[1] \n",
    "    \n",
    "    theta0 = initialise_theta(n*hidden_units+(hidden_units+1)*k)\n",
    "    \n",
    "    print('number of parameters:', theta0.shape)\n",
    "    \n",
    "    _lambda = 1\n",
    "    \n",
    "    result = op.minimize(fun=loss, x0=theta0, args=(X, y, hidden_units, _lambda), \n",
    "                        method='TNC', jac=gradient, options={'maxiter':10})\n",
    "    \n",
    "    return result.x"
   ]
  },
  {
   "cell_type": "code",
   "execution_count": 45,
   "metadata": {},
   "outputs": [
    {
     "name": "stdout",
     "output_type": "stream",
     "text": [
      "number of parameters: (4120,)\n"
     ]
    },
    {
     "data": {
      "text/plain": [
       "array([ 0.03137554, -0.04029693,  0.05724477, ..., -0.35487958,\n",
       "       -0.15731899, -0.41668244])"
      ]
     },
     "execution_count": 45,
     "metadata": {},
     "output_type": "execute_result"
    }
   ],
   "source": [
    "one_layer_neural_network(X, y_encoded, 10)"
   ]
  },
  {
   "cell_type": "markdown",
   "metadata": {},
   "source": [
    "**TODO**: \n",
    "- learn about ML and oriented object best practices -see existing library  \n",
    "https://www.reddit.com/r/MachineLearning/comments/4kprfh/object_oriented_principlesbest_practices_for/"
   ]
  },
  {
   "cell_type": "code",
   "execution_count": 46,
   "metadata": {},
   "outputs": [],
   "source": [
    "class one_layer_neural_network:\n",
    "    def __init__(self, X, y, hidden_units=25):\n",
    "        self.X = X\n",
    "        self.y = y\n",
    "        self.hidden_units = hidden_units\n",
    "        self.m, self.n = X.shape\n",
    "        self.k = y.shape[1]\n",
    "        self.theta = initialise_theta((self.n+1)*hidden_units+(hidden_units+1)*self.k)\n",
    "        \n",
    "    def initialise_theta(number_theta, epsilon = 0.12):\n",
    "        W = np.random.rand(number_theta)\n",
    "        return W * 2 * epsilon - epsilon"
   ]
  }
 ],
 "metadata": {
  "kernelspec": {
   "display_name": "Python 3",
   "language": "python",
   "name": "python3"
  },
  "language_info": {
   "codemirror_mode": {
    "name": "ipython",
    "version": 3
   },
   "file_extension": ".py",
   "mimetype": "text/x-python",
   "name": "python",
   "nbconvert_exporter": "python",
   "pygments_lexer": "ipython3",
   "version": "3.6.6"
  }
 },
 "nbformat": 4,
 "nbformat_minor": 2
}
