{
 "cells": [
  {
   "cell_type": "markdown",
   "metadata": {},
   "source": [
    "This week is about logistic regression. Mostly used for classification."
   ]
  },
  {
   "cell_type": "code",
   "execution_count": 1,
   "metadata": {},
   "outputs": [],
   "source": [
    "import numpy as np\n",
    "import matplotlib.pyplot as plt\n",
    "from scipy import optimize as op\n",
    "from sklearn.linear_model import LogisticRegression"
   ]
  },
  {
   "cell_type": "markdown",
   "metadata": {},
   "source": [
    "### Logistic regression"
   ]
  },
  {
   "cell_type": "code",
   "execution_count": 2,
   "metadata": {},
   "outputs": [
    {
     "name": "stdout",
     "output_type": "stream",
     "text": [
      "(100, 3)\n"
     ]
    }
   ],
   "source": [
    "data = []\n",
    "with open('./data/ex2data1.txt') as f:\n",
    "    for line in f:\n",
    "        data.append(line.strip().split(','))\n",
    "data = np.array(data).astype(np.float64)\n",
    "print(data.shape)"
   ]
  },
  {
   "cell_type": "code",
   "execution_count": 3,
   "metadata": {},
   "outputs": [],
   "source": [
    "X = data[:,:2]\n",
    "y = data[:,2]"
   ]
  },
  {
   "cell_type": "code",
   "execution_count": 4,
   "metadata": {},
   "outputs": [
    {
     "data": {
      "image/png": "[encoded data removed]",
      "text/plain": [
       "<Figure size 432x288 with 1 Axes>"
      ]
     },
     "metadata": {
      "needs_background": "light"
     },
     "output_type": "display_data"
    }
   ],
   "source": [
    "fig, ax = plt.subplots()\n",
    "ax.scatter(X[y==1,0], X[y==1,1], label='Admited')\n",
    "ax.scatter(X[y==0,0], X[y==0,1], label='Rejected')\n",
    "ax.legend()\n",
    "plt.show()"
   ]
  },
  {
   "cell_type": "code",
   "execution_count": 5,
   "metadata": {},
   "outputs": [
    {
     "name": "stdout",
     "output_type": "stream",
     "text": [
      "[-25.16138567]\n",
      "[[0.20623222 0.20147191]]\n"
     ]
    }
   ],
   "source": [
    "# scikit :)\n",
    "reg = LogisticRegression(fit_intercept=True, C = 1e20, solver='lbfgs', max_iter=10000)\n",
    "reg.fit(X,y)\n",
    "reg.score(X,y)\n",
    "print(reg.intercept_)\n",
    "print(reg.coef_)"
   ]
  },
  {
   "cell_type": "code",
   "execution_count": 6,
   "metadata": {},
   "outputs": [],
   "source": [
    "def sigmoid(x):                                        \n",
    "    return 1.0 / (1 + np.exp(-x))"
   ]
  },
  {
   "cell_type": "code",
   "execution_count": 7,
   "metadata": {},
   "outputs": [],
   "source": [
    "def h(theta, X):\n",
    "    return sigmoid(X.dot(theta))"
   ]
  },
  {
   "cell_type": "code",
   "execution_count": 8,
   "metadata": {},
   "outputs": [],
   "source": [
    "def compute_cost(theta, X, y):\n",
    "    m = len(y)\n",
    "    return (1 / m) * (-y.T.dot(np.log(h(theta,X))) - (1 - y).T.dot(np.log(1 - h(theta,X))))"
   ]
  },
  {
   "cell_type": "code",
   "execution_count": 9,
   "metadata": {},
   "outputs": [],
   "source": [
    "def gradient_descend(X, y, alpha=0.002, iters=1000, intercept=True, progress_track=False, _lambda=0.1):\n",
    "    if intercept:\n",
    "        intercept = np.ones((X.shape[0], 1))\n",
    "        X = np.hstack((intercept, X))\n",
    "    \n",
    "    m, n = X.shape\n",
    "    theta = np.zeros([n,1])\n",
    "    y = y.reshape((m, 1))\n",
    "    \n",
    "    print('theta', theta.shape)\n",
    "    print('X', X.shape)\n",
    "    print('y', y.shape)\n",
    "    \n",
    "    cost = np.zeros(iters)\n",
    "        \n",
    "    for i in range(iters): \n",
    "        Z = np.matmul(X, theta)\n",
    "        A = sigmoid(Z)\n",
    "        dz = A - y\n",
    "        dw = 1/m * np.matmul(X.T, dz)\n",
    "        theta = theta - alpha * dw\n",
    "        cost[i] = compute_cost(theta, X, y)\n",
    "        if i % 100 == 0 and progress_track:\n",
    "            print(cost[i])        \n",
    "    return theta, cost"
   ]
  },
  {
   "cell_type": "code",
   "execution_count": 10,
   "metadata": {},
   "outputs": [
    {
     "name": "stdout",
     "output_type": "stream",
     "text": [
      "theta (3, 1)\n",
      "X (100, 3)\n",
      "y (100, 1)\n"
     ]
    },
    {
     "data": {
      "text/plain": [
       "array([[-15.39517866],\n",
       "       [  0.12825989],\n",
       "       [  0.12247929]])"
      ]
     },
     "execution_count": 10,
     "metadata": {},
     "output_type": "execute_result"
    }
   ],
   "source": [
    "theta, cost = gradient_descend(X, y, alpha=0.001, iters=1000000, progress_track=False)\n",
    "theta"
   ]
  },
  {
   "cell_type": "code",
   "execution_count": 11,
   "metadata": {},
   "outputs": [
    {
     "data": {
      "image/png": "[encoded data removed]",
      "text/plain": [
       "<Figure size 432x288 with 1 Axes>"
      ]
     },
     "metadata": {
      "needs_background": "light"
     },
     "output_type": "display_data"
    }
   ],
   "source": [
    "fig, ax = plt.subplots()  \n",
    "ax.plot(np.arange(len(cost)), cost, 'r')  \n",
    "ax.set_xlabel('Iterations')  \n",
    "ax.set_ylabel('Cost')  \n",
    "ax.set_title('Error vs. Training Epoch')  \n",
    "plt.show()"
   ]
  },
  {
   "cell_type": "markdown",
   "metadata": {},
   "source": [
    "Struggle with finding proper alpha and iterations.. I also spend some time Googling for 'logistic regression from scratch'.. Let's try again using optimise methods. I also took the habit of having 2 dimensions for X and one dimension for theta and y."
   ]
  },
  {
   "cell_type": "code",
   "execution_count": 12,
   "metadata": {},
   "outputs": [],
   "source": [
    "def sigmoid(x):                                        \n",
    "    return 1.0 / (1 + np.exp(-x))"
   ]
  },
  {
   "cell_type": "code",
   "execution_count": 13,
   "metadata": {},
   "outputs": [],
   "source": [
    "def h(theta, X):\n",
    "    return sigmoid(X.dot(theta))"
   ]
  },
  {
   "cell_type": "code",
   "execution_count": 14,
   "metadata": {},
   "outputs": [],
   "source": [
    "def loss_function(theta, y, X, _lambda):\n",
    "    cost = (1.0 / len(y)) * (-y.dot(np.log(h(theta, X))) - (1 - y).dot(np.log(1 - h(theta,X))))\n",
    "    return cost + (_lambda / (2 * len(y)) * (theta ** 2).sum())"
   ]
  },
  {
   "cell_type": "code",
   "execution_count": 15,
   "metadata": {},
   "outputs": [],
   "source": [
    "def gradient(theta, y, X, _lambda):\n",
    "    \n",
    "    theta = theta.reshape(len(theta), 1)\n",
    "    y = y.reshape(len(y), 1)\n",
    "        \n",
    "    grad = np.sum(X * (h(theta, X) - y), axis=0)\n",
    "    \n",
    "    reg = ((_lambda / len(y)) * theta).reshape(len(theta))\n",
    "    reg[0] = 0\n",
    "    \n",
    "    \n",
    "    return (grad / len(y)) + reg"
   ]
  },
  {
   "cell_type": "code",
   "execution_count": 16,
   "metadata": {},
   "outputs": [],
   "source": [
    "def logistic_regression(X, y, _lambda, intercept=True):\n",
    "    if intercept:\n",
    "        intercept = np.ones((X.shape[0], 1))\n",
    "        X = np.hstack((intercept, X))\n",
    "    \n",
    "    m, n = X.shape\n",
    "    theta = np.zeros(n)\n",
    "    \n",
    "    print('theta', theta.shape)\n",
    "    print('X', X.shape)\n",
    "    print('y', y.shape)\n",
    "    \n",
    "    result = op.minimize(fun=loss_function, x0=theta, args=(y, X, _lambda), method='TNC', jac=gradient)\n",
    "    \n",
    "    return result.x"
   ]
  },
  {
   "cell_type": "code",
   "execution_count": 17,
   "metadata": {},
   "outputs": [
    {
     "name": "stdout",
     "output_type": "stream",
     "text": [
      "theta (3,)\n",
      "X (100, 3)\n",
      "y (100,)\n"
     ]
    }
   ],
   "source": [
    "optimal_theta = logistic_regression(X, y, 0)"
   ]
  },
  {
   "cell_type": "markdown",
   "metadata": {},
   "source": [
    "For a student with an Exam 1 score of 45 and an Exam 2 score of 85, you should expect to see an admission probability of 0.776."
   ]
  },
  {
   "cell_type": "code",
   "execution_count": 18,
   "metadata": {},
   "outputs": [],
   "source": [
    "my_student = np.array([[1, 45, 85]])"
   ]
  },
  {
   "cell_type": "code",
   "execution_count": 19,
   "metadata": {},
   "outputs": [
    {
     "data": {
      "text/plain": [
       "array([0.77629063])"
      ]
     },
     "execution_count": 19,
     "metadata": {},
     "output_type": "execute_result"
    }
   ],
   "source": [
    "sigmoid(my_student @ optimal_theta)"
   ]
  },
  {
   "cell_type": "markdown",
   "metadata": {},
   "source": [
    "Plotting decision boundary. 2 points are needed in order to plot a line on 2D graph."
   ]
  },
  {
   "cell_type": "code",
   "execution_count": 20,
   "metadata": {},
   "outputs": [],
   "source": [
    "plot_x = np.array([X[:,0].min(),  X[:,0].max()])\n",
    "plot_y = (-1.0/optimal_theta[2]) * (optimal_theta[1] * plot_x + optimal_theta[0])"
   ]
  },
  {
   "cell_type": "code",
   "execution_count": 21,
   "metadata": {},
   "outputs": [
    {
     "data": {
      "image/png": "[encoded data removed]",
      "text/plain": [
       "<Figure size 432x288 with 1 Axes>"
      ]
     },
     "metadata": {
      "needs_background": "light"
     },
     "output_type": "display_data"
    }
   ],
   "source": [
    "fig, ax = plt.subplots()\n",
    "ax.scatter(X[y==1,0], X[y==1,1], label='Admited')\n",
    "ax.scatter(X[y==0,0], X[y==0,1], label='Rejected')\n",
    "ax.plot(plot_x, plot_y, label='decision boundary')\n",
    "ax.legend()\n",
    "plt.show()"
   ]
  },
  {
   "cell_type": "markdown",
   "metadata": {},
   "source": [
    "### Regularized logistic regression"
   ]
  },
  {
   "cell_type": "markdown",
   "metadata": {},
   "source": [
    "I already modified previous function so that setting _lambda to a value diferent than 0 enable regularisation"
   ]
  },
  {
   "cell_type": "code",
   "execution_count": 22,
   "metadata": {},
   "outputs": [
    {
     "name": "stdout",
     "output_type": "stream",
     "text": [
      "(118, 3)\n"
     ]
    }
   ],
   "source": [
    "data = []\n",
    "with open('./data/ex2data2.txt') as f:\n",
    "    for line in f:\n",
    "        data.append(line.strip().split(','))\n",
    "data = np.array(data).astype(np.float64)\n",
    "print(data.shape)"
   ]
  },
  {
   "cell_type": "code",
   "execution_count": 23,
   "metadata": {},
   "outputs": [],
   "source": [
    "X = data[:,:2]\n",
    "y = data[:,2]"
   ]
  },
  {
   "cell_type": "code",
   "execution_count": 24,
   "metadata": {},
   "outputs": [
    {
     "data": {
      "image/png": "[encoded data removed]",
      "text/plain": [
       "<Figure size 432x288 with 1 Axes>"
      ]
     },
     "metadata": {
      "needs_background": "light"
     },
     "output_type": "display_data"
    }
   ],
   "source": [
    "fig, ax = plt.subplots()\n",
    "ax.scatter(X[y==1,0], X[y==1,1], label='Admited')\n",
    "ax.scatter(X[y==0,0], X[y==0,1], label='Rejected')\n",
    "ax.legend()\n",
    "plt.show()"
   ]
  },
  {
   "cell_type": "code",
   "execution_count": 25,
   "metadata": {},
   "outputs": [
    {
     "name": "stdout",
     "output_type": "stream",
     "text": [
      "[-0.01418621]\n",
      "[[-0.30352121 -0.01813235]]\n"
     ]
    }
   ],
   "source": [
    "# scikit\n",
    "reg = LogisticRegression(fit_intercept=True, C = 1e20, solver='lbfgs', max_iter=10000)\n",
    "reg.fit(X,y)\n",
    "reg.score(X,y)\n",
    "print(reg.intercept_)\n",
    "print(reg.coef_)"
   ]
  },
  {
   "cell_type": "code",
   "execution_count": 26,
   "metadata": {},
   "outputs": [
    {
     "name": "stdout",
     "output_type": "stream",
     "text": [
      "[-0.0174072]\n",
      "[[-0.26541433 -0.01162176]]\n"
     ]
    }
   ],
   "source": [
    "# scikit with regularisation 'C'\n",
    "reg = LogisticRegression(fit_intercept=True, C = 1, solver='lbfgs', max_iter=10000)\n",
    "reg.fit(X,y)\n",
    "reg.score(X,y)\n",
    "print(reg.intercept_)\n",
    "print(reg.coef_)"
   ]
  },
  {
   "cell_type": "code",
   "execution_count": 27,
   "metadata": {},
   "outputs": [
    {
     "name": "stdout",
     "output_type": "stream",
     "text": [
      "theta (3,)\n",
      "X (118, 3)\n",
      "y (118,)\n",
      "without regularisation [-0.01418036 -0.3035692  -0.01812414]\n",
      "theta (3,)\n",
      "X (118, 3)\n",
      "y (118,)\n",
      "with regularisation [-0.01740155 -0.26545612 -0.01162128]\n"
     ]
    }
   ],
   "source": [
    "optimal_theta = logistic_regression(X, y, 0)\n",
    "print('without regularisation', optimal_theta)\n",
    "\n",
    "optimal_theta = logistic_regression(X, y, 1)\n",
    "print('with regularisation', optimal_theta)"
   ]
  },
  {
   "cell_type": "markdown",
   "metadata": {},
   "source": [
    "# Multi-class logistic regression  \n",
    "https://www.kaggle.com/anthonysegura/logistic-regression-from-scratch"
   ]
  },
  {
   "cell_type": "code",
   "execution_count": 28,
   "metadata": {},
   "outputs": [],
   "source": [
    "from sklearn.datasets import load_iris\n",
    "X, y = load_iris(return_X_y=True)"
   ]
  },
  {
   "cell_type": "code",
   "execution_count": 29,
   "metadata": {},
   "outputs": [
    {
     "name": "stdout",
     "output_type": "stream",
     "text": [
      "X  (150, 4) y  (150,)\n"
     ]
    }
   ],
   "source": [
    "print('X ', X.shape, 'y ', y.shape)"
   ]
  },
  {
   "cell_type": "code",
   "execution_count": 30,
   "metadata": {},
   "outputs": [
    {
     "data": {
      "text/plain": [
       "array([0, 1, 2])"
      ]
     },
     "execution_count": 30,
     "metadata": {},
     "output_type": "execute_result"
    }
   ],
   "source": [
    "np.unique(y)"
   ]
  },
  {
   "cell_type": "code",
   "execution_count": 31,
   "metadata": {},
   "outputs": [
    {
     "name": "stdout",
     "output_type": "stream",
     "text": [
      "3 4\n",
      "theta (5,)\n",
      "X (150, 5)\n",
      "y (150,)\n",
      "theta (5,)\n",
      "X (150, 5)\n",
      "y (150,)\n",
      "theta (5,)\n",
      "X (150, 5)\n",
      "y (150,)\n"
     ]
    }
   ],
   "source": [
    "# lales\n",
    "k = len(np.unique(y))\n",
    "# features\n",
    "n = X.shape[1]\n",
    "\n",
    "print(k, n)\n",
    "\n",
    "all_theta = np.zeros((k, n+1))\n",
    "i = 0\n",
    "for species in np.unique(y):\n",
    "    #set the labels in 0 and 1\n",
    "    tmp_y = np.array(y == species, dtype = int)\n",
    "    optTheta = logistic_regression(X, tmp_y, 1)\n",
    "    optTheta = np.reshape(optTheta,-1)\n",
    "    all_theta[i] = optTheta\n",
    "    i += 1"
   ]
  },
  {
   "cell_type": "code",
   "execution_count": 32,
   "metadata": {},
   "outputs": [],
   "source": [
    "intercept = np.ones((X.shape[0], 1))\n",
    "features = np.hstack((intercept, X))\n",
    "P = sigmoid(features.dot(all_theta.T)) # probability for each flower\n",
    "p = [np.unique(y)[np.argmax(P[i, :])] for i in range(features.shape[0])]"
   ]
  },
  {
   "cell_type": "code",
   "execution_count": 33,
   "metadata": {},
   "outputs": [
    {
     "data": {
      "text/plain": [
       "array([[ 0.64238544,  0.35837049,  1.3934165 , -2.21888292, -1.03723764],\n",
       "       [ 1.56690045,  0.26648941, -1.60694417,  0.75464715, -1.5973218 ],\n",
       "       [-1.53456107, -1.8858342 , -1.37683813,  2.61952416,  2.69176555]])"
      ]
     },
     "execution_count": 33,
     "metadata": {},
     "output_type": "execute_result"
    }
   ],
   "source": [
    "all_theta"
   ]
  },
  {
   "cell_type": "code",
   "execution_count": 38,
   "metadata": {},
   "outputs": [
    {
     "data": {
      "text/plain": [
       "0.9533333333333334"
      ]
     },
     "execution_count": 38,
     "metadata": {},
     "output_type": "execute_result"
    }
   ],
   "source": [
    "# let's compute the score of our algorithm\n",
    "success = np.array(y==p)\n",
    "success.mean()"
   ]
  },
  {
   "cell_type": "code",
   "execution_count": 39,
   "metadata": {},
   "outputs": [
    {
     "name": "stdout",
     "output_type": "stream",
     "text": [
      "0.9533333333333334\n",
      "[  6.69040651   5.58615272 -14.43121671]\n",
      "[[-0.44501376  0.89999242 -2.32353827 -0.97345836]\n",
      " [-0.1792787  -2.12866718  0.69665417 -1.27480129]\n",
      " [-0.39444787 -0.5133412   2.93087523  2.41709879]]\n"
     ]
    }
   ],
   "source": [
    "# scikit\n",
    "reg = LogisticRegression(fit_intercept=True, C = 1, solver='lbfgs', max_iter=1000, multi_class='ovr')\n",
    "reg.fit(X,y)\n",
    "print(reg.score(X,y))\n",
    "print(reg.intercept_)\n",
    "print(reg.coef_)"
   ]
  },
  {
   "cell_type": "markdown",
   "metadata": {},
   "source": [
    "TODO:\n",
    "- feature mapping => add polynomial for non-linear\n",
    "- plotting the decision boundary"
   ]
  }
 ],
 "metadata": {
  "kernelspec": {
   "display_name": "Python 3",
   "language": "python",
   "name": "python3"
  },
  "language_info": {
   "codemirror_mode": {
    "name": "ipython",
    "version": 3
   },
   "file_extension": ".py",
   "mimetype": "text/x-python",
   "name": "python",
   "nbconvert_exporter": "python",
   "pygments_lexer": "ipython3",
   "version": "3.6.6"
  }
 },
 "nbformat": 4,
 "nbformat_minor": 2
}
