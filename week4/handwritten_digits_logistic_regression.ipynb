{
 "cells": [
  {
   "cell_type": "markdown",
   "metadata": {},
   "source": [
    "Logistic regression to classify handwritten digits. "
   ]
  },
  {
   "cell_type": "code",
   "execution_count": null,
   "metadata": {},
   "outputs": [],
   "source": [
    "import numpy as np\n",
    "from sklearn.model_selection import train_test_split\n",
    "from sklearn.linear_model import LogisticRegression\n",
    "from sklearn.metrics import classification_report\n",
    "import matplotlib.pyplot as plt\n",
    "import scipy.io as sio"
   ]
  },
  {
   "cell_type": "code",
   "execution_count": 2,
   "metadata": {},
   "outputs": [],
   "source": [
    "data = sio.loadmat('./data/ex3data1.mat')"
   ]
  },
  {
   "cell_type": "code",
   "execution_count": 3,
   "metadata": {},
   "outputs": [
    {
     "data": {
      "text/plain": [
       "(5000, 400)"
      ]
     },
     "execution_count": 3,
     "metadata": {},
     "output_type": "execute_result"
    }
   ],
   "source": [
    "X = data['X']\n",
    "X.shape"
   ]
  },
  {
   "cell_type": "code",
   "execution_count": 4,
   "metadata": {},
   "outputs": [
    {
     "data": {
      "text/plain": [
       "(5000,)"
      ]
     },
     "execution_count": 4,
     "metadata": {},
     "output_type": "execute_result"
    }
   ],
   "source": [
    "y = data['y']\n",
    "n = len(y)\n",
    "y = y.reshape(n)\n",
    "y.shape"
   ]
  },
  {
   "cell_type": "code",
   "execution_count": 5,
   "metadata": {},
   "outputs": [],
   "source": [
    "count_unique = np.unique(y, return_counts=True)\n",
    "# data is balanced, 500 observastion of each classes"
   ]
  },
  {
   "cell_type": "code",
   "execution_count": 6,
   "metadata": {},
   "outputs": [],
   "source": [
    "def show_image(x):\n",
    "    digit = x.reshape(20,20, order='F')\n",
    "    plt.imshow(digit, cmap='gray')\n",
    "    plt.show()"
   ]
  },
  {
   "cell_type": "code",
   "execution_count": 7,
   "metadata": {},
   "outputs": [
    {
     "data": {
      "image/png": "[encoded data removed]",
      "text/plain": [
       "<Figure size 432x288 with 1 Axes>"
      ]
     },
     "metadata": {
      "needs_background": "light"
     },
     "output_type": "display_data"
    }
   ],
   "source": [
    "show_image(X[500])"
   ]
  },
  {
   "cell_type": "code",
   "execution_count": 8,
   "metadata": {},
   "outputs": [],
   "source": [
    "X_train, X_test, y_train, y_test = train_test_split(X, y, test_size=0.1, random_state=123)"
   ]
  },
  {
   "cell_type": "markdown",
   "metadata": {},
   "source": [
    "### Scikit learn"
   ]
  },
  {
   "cell_type": "code",
   "execution_count": 9,
   "metadata": {},
   "outputs": [
    {
     "data": {
      "text/plain": [
       "0.892"
      ]
     },
     "execution_count": 9,
     "metadata": {},
     "output_type": "execute_result"
    }
   ],
   "source": [
    "clf = LogisticRegression(random_state=0, solver='lbfgs',\n",
    "                         multi_class='multinomial', max_iter=1000)\n",
    "\n",
    "clf.fit(X_train, y_train)\n",
    "X_pred = clf.predict(X_test)\n",
    "clf.score(X_test, y_test)"
   ]
  },
  {
   "cell_type": "code",
   "execution_count": 10,
   "metadata": {},
   "outputs": [
    {
     "name": "stdout",
     "output_type": "stream",
     "text": [
      "true value:  4\n",
      "predicted value:  8\n"
     ]
    },
    {
     "data": {
      "image/png": "[encoded data removed]",
      "text/plain": [
       "<Figure size 432x288 with 1 Axes>"
      ]
     },
     "metadata": {
      "needs_background": "light"
     },
     "output_type": "display_data"
    },
    {
     "name": "stdout",
     "output_type": "stream",
     "text": [
      "true value:  8\n",
      "predicted value:  5\n"
     ]
    },
    {
     "data": {
      "image/png": "[encoded data removed]",
      "text/plain": [
       "<Figure size 432x288 with 1 Axes>"
      ]
     },
     "metadata": {
      "needs_background": "light"
     },
     "output_type": "display_data"
    }
   ],
   "source": [
    "for i, x in enumerate(X_pred):\n",
    "    if X_pred[i] != y_test[i]:\n",
    "        print('true value: ', y_test[i])\n",
    "        print('predicted value: ', X_pred[i])\n",
    "        show_image(X_test[i])\n",
    "    if i == 20:\n",
    "        break\n"
   ]
  },
  {
   "cell_type": "code",
   "execution_count": 11,
   "metadata": {},
   "outputs": [
    {
     "name": "stdout",
     "output_type": "stream",
     "text": [
      "percentage of error:  0.108\n",
      "              precision    recall  f1-score   support\n",
      "\n",
      "           1       0.96      0.98      0.97        45\n",
      "           2       0.89      0.80      0.84        49\n",
      "           3       0.83      0.81      0.82        54\n",
      "           4       0.94      0.89      0.92        55\n",
      "           5       0.84      0.88      0.86        56\n",
      "           6       0.92      0.94      0.93        51\n",
      "           7       0.91      0.93      0.92        42\n",
      "           8       0.82      0.86      0.84        49\n",
      "           9       0.88      0.90      0.89        49\n",
      "          10       0.94      0.96      0.95        50\n",
      "\n",
      "   micro avg       0.89      0.89      0.89       500\n",
      "   macro avg       0.89      0.89      0.89       500\n",
      "weighted avg       0.89      0.89      0.89       500\n",
      "\n"
     ]
    }
   ],
   "source": [
    "print('percentage of error: ', (y_test != X_pred).sum()/len(y_test))\n",
    "print(classification_report(y_test, X_pred, labels=np.unique(y)))"
   ]
  },
  {
   "cell_type": "markdown",
   "metadata": {},
   "source": [
    "### Dirty algorithm  \n",
    "I have review it in week 3. However, in this case, finding a value for the learning rate was easier so I left it unchanged here."
   ]
  },
  {
   "cell_type": "code",
   "execution_count": 12,
   "metadata": {},
   "outputs": [],
   "source": [
    "def sigmoid(x):                                        \n",
    "    return 1.0 / (1 + np.exp(-x))\n",
    "\n",
    "def h(theta, X):\n",
    "    return sigmoid(X.dot(theta))\n",
    "\n",
    "def compute_cost(theta, X, y):\n",
    "    m = len(y)\n",
    "    return (1 / m) * (-y.T.dot(np.log(h(theta,X))) - (1 - y).T.dot(np.log(1 - h(theta,X))))\n",
    "\n",
    "def gradient_descend(X, y, alpha=0.001, iters=1000, intercept=True, progress_track=False):\n",
    "    if intercept:\n",
    "        intercept = np.ones((X.shape[0], 1))\n",
    "        X = np.hstack((intercept, X))\n",
    "    \n",
    "    m, n = X.shape\n",
    "    theta = np.zeros([n,1])\n",
    "    y = y.reshape((m, 1))\n",
    "        \n",
    "    cost = np.zeros(iters)\n",
    "        \n",
    "    for i in range(iters): \n",
    "        Z = np.matmul(X, theta)\n",
    "        A = sigmoid(Z)\n",
    "        dz = A - y\n",
    "        dw = 1/m * np.matmul(X.T, dz)\n",
    "        theta = theta - alpha * dw\n",
    "        cost[i] = compute_cost(theta, X, y)\n",
    "        if i % 100 == 0 and progress_track:\n",
    "            print(cost[i])        \n",
    "    return theta, cost"
   ]
  },
  {
   "cell_type": "code",
   "execution_count": 13,
   "metadata": {},
   "outputs": [
    {
     "name": "stdout",
     "output_type": "stream",
     "text": [
      "0.4213388912749686\n",
      "0.09461314873315876\n",
      "0.0704220841418863\n",
      "0.06033724051934903\n",
      "0.05457497474784729\n",
      "0.050761073471569024\n",
      "0.048011291180174304\n",
      "0.045914140020088035\n",
      "0.04424961204067723\n",
      "0.042888330442659515\n"
     ]
    }
   ],
   "source": [
    "# let's try find value of alpha\n",
    "tmp_y = np.array(y == 1, dtype = int)\n",
    "optTheta, cost = gradient_descend(X, tmp_y, alpha=0.1, iters=1000, progress_track=True)"
   ]
  },
  {
   "cell_type": "code",
   "execution_count": 14,
   "metadata": {},
   "outputs": [
    {
     "name": "stdout",
     "output_type": "stream",
     "text": [
      "10 400\n"
     ]
    }
   ],
   "source": [
    "# labels\n",
    "k = len(np.unique(y))\n",
    "\n",
    "# features\n",
    "n = X_train.shape[1]\n",
    "\n",
    "print(k, n)\n",
    "\n",
    "all_theta = np.zeros((k, n+1))\n",
    "i = 0\n",
    "for number in np.unique(y):\n",
    "    #set the labels in 0 and 1\n",
    "    tmp_y = np.array(y_train == number, dtype = int)\n",
    "    optTheta, cost = gradient_descend(X_train, tmp_y, alpha=0.01, iters=1000, progress_track=False)\n",
    "    optTheta = np.reshape(optTheta,-1)\n",
    "    all_theta[i] = optTheta\n",
    "    i += 1"
   ]
  },
  {
   "cell_type": "code",
   "execution_count": 15,
   "metadata": {},
   "outputs": [],
   "source": [
    "intercept = np.ones((X_test.shape[0], 1))\n",
    "features = np.hstack((intercept, X_test))\n",
    "P = sigmoid(features.dot(all_theta.T)) #probability for each nymber\n",
    "p = [np.unique(y)[np.argmax(P[i, :])] for i in range(features.shape[0])]"
   ]
  },
  {
   "cell_type": "code",
   "execution_count": 16,
   "metadata": {},
   "outputs": [
    {
     "name": "stdout",
     "output_type": "stream",
     "text": [
      "percentaqge of error:  0.18\n",
      "              precision    recall  f1-score   support\n",
      "\n",
      "           1       0.83      0.98      0.90        45\n",
      "           2       0.79      0.76      0.77        49\n",
      "           3       0.71      0.83      0.77        54\n",
      "           4       0.92      0.82      0.87        55\n",
      "           5       0.89      0.59      0.71        56\n",
      "           6       0.87      0.90      0.88        51\n",
      "           7       0.90      0.90      0.90        42\n",
      "           8       0.76      0.80      0.78        49\n",
      "           9       0.77      0.73      0.75        49\n",
      "          10       0.81      0.94      0.87        50\n",
      "\n",
      "   micro avg       0.82      0.82      0.82       500\n",
      "   macro avg       0.83      0.83      0.82       500\n",
      "weighted avg       0.83      0.82      0.82       500\n",
      "\n"
     ]
    }
   ],
   "source": [
    "print('percentaqge of error: ', (y_test != p).sum()/len(y_test))\n",
    "print(classification_report(y_test, p, labels=np.unique(y)))"
   ]
  }
 ],
 "metadata": {
  "kernelspec": {
   "display_name": "Python 3",
   "language": "python",
   "name": "python3"
  },
  "language_info": {
   "codemirror_mode": {
    "name": "ipython",
    "version": 3
   },
   "file_extension": ".py",
   "mimetype": "text/x-python",
   "name": "python",
   "nbconvert_exporter": "python",
   "pygments_lexer": "ipython3",
   "version": "3.6.6"
  }
 },
 "nbformat": 4,
 "nbformat_minor": 2
}
