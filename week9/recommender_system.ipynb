{
 "cells": [
  {
   "cell_type": "markdown",
   "metadata": {},
   "source": [
    "Recommender system\n",
    "This reminds me of; https://en.wikipedia.org/wiki/Netflix_Prize"
   ]
  },
  {
   "cell_type": "code",
   "execution_count": 1,
   "metadata": {},
   "outputs": [],
   "source": [
    "import matplotlib.pyplot as plt\n",
    "import numpy as np\n",
    "import scipy.io as sio\n",
    "from scipy import optimize as op"
   ]
  },
  {
   "cell_type": "code",
   "execution_count": 2,
   "metadata": {},
   "outputs": [],
   "source": [
    "data = sio.loadmat('./data/ex8_movies.mat')\n",
    "data_params = sio.loadmat('./data/ex8_movieParams.mat')"
   ]
  },
  {
   "cell_type": "markdown",
   "metadata": {},
   "source": [
    "The dataset has nu = 943 users, and nm = 1682 movies"
   ]
  },
  {
   "cell_type": "code",
   "execution_count": 3,
   "metadata": {},
   "outputs": [],
   "source": [
    "result = {}\n",
    "with open('./data/movie_ids.txt',encoding=\"latin-1\") as f:\n",
    "    for line in f:\n",
    "        result[int(line.split()[0])] = line"
   ]
  },
  {
   "cell_type": "code",
   "execution_count": 4,
   "metadata": {},
   "outputs": [
    {
     "name": "stdout",
     "output_type": "stream",
     "text": [
      "(1682, 943)\n"
     ]
    }
   ],
   "source": [
    "Y = data['Y'] # rating matrix; Movies x Users (1 to 5)\n",
    "R = data['R'] # indicator matrix; Movies x Users\n",
    "print(Y.shape)"
   ]
  },
  {
   "cell_type": "code",
   "execution_count": 5,
   "metadata": {},
   "outputs": [
    {
     "name": "stdout",
     "output_type": "stream",
     "text": [
      "best rated:  231 Batman Returns (1992)\n",
      "\n",
      "231 101 4.491071428571429\n"
     ]
    }
   ],
   "source": [
    "# best rated with at least 100 ratings\n",
    "idx = np.where(R.sum(axis=1) > 100)\n",
    "avg = Y[idx].sum(axis=1) / R[idx].sum(axis=1)\n",
    "best = np.argmax(avg)\n",
    "print('best rated: ', result[best])\n",
    "print(best, R[best].sum(), avg[best])"
   ]
  },
  {
   "cell_type": "code",
   "execution_count": 6,
   "metadata": {},
   "outputs": [
    {
     "name": "stdout",
     "output_type": "stream",
     "text": [
      "(1682, 10)\n",
      "(943, 10)\n"
     ]
    }
   ],
   "source": [
    "X = data_params['X']\n",
    "print(X.shape)\n",
    "theta = data_params['Theta']\n",
    "print(theta.shape)"
   ]
  },
  {
   "cell_type": "code",
   "execution_count": 7,
   "metadata": {},
   "outputs": [],
   "source": [
    "rolled_parameters = np.append(X, theta)"
   ]
  },
  {
   "cell_type": "code",
   "execution_count": 8,
   "metadata": {},
   "outputs": [],
   "source": [
    "def unroled_parameters(rolled_parameters, number_movies, number_users, num_features):\n",
    "    X = rolled_parameters[0:(number_movies*num_features)].reshape((number_movies, num_features))\n",
    "    theta = rolled_parameters[(number_movies*num_features):].reshape((number_users, num_features))\n",
    "    return X, theta"
   ]
  },
  {
   "cell_type": "code",
   "execution_count": 9,
   "metadata": {},
   "outputs": [],
   "source": [
    "def cost_function(rolled_parameters, Y, R, num_features, _lambda=1.5):\n",
    "    \n",
    "    # unroll and reshape\n",
    "    number_movies, number_users = Y.shape\n",
    "    X, theta = unroled_parameters(rolled_parameters, number_movies, number_users, num_features) \n",
    "\n",
    "    cost_to_sum = ((X @ theta.T ) - Y)**2\n",
    "    cost = 1/2 * (cost_to_sum * R).sum()\n",
    "    print(cost)\n",
    "    reg = (_lambda / 2) * ((theta ** 2).sum() + (X ** 2).sum())\n",
    "    \n",
    "    return cost + reg"
   ]
  },
  {
   "cell_type": "code",
   "execution_count": 10,
   "metadata": {},
   "outputs": [
    {
     "name": "stdout",
     "output_type": "stream",
     "text": [
      "27918.64012454421\n"
     ]
    },
    {
     "data": {
      "text/plain": [
       "34821.703613072226"
      ]
     },
     "execution_count": 10,
     "metadata": {},
     "output_type": "execute_result"
    }
   ],
   "source": [
    "cost_function(rolled_parameters, Y, R, 10)"
   ]
  },
  {
   "cell_type": "code",
   "execution_count": 11,
   "metadata": {},
   "outputs": [],
   "source": [
    "# Reduce data set to run faster\n",
    "num_users = 4\n",
    "num_movies = 5\n",
    "num_features = 3\n",
    "X_red = X[:num_movies, :num_features]\n",
    "theta_red = theta[:num_users, :num_features]\n",
    "Y_red = Y[:num_movies, :num_users]\n",
    "R_red = R[:num_movies, :num_users]\n",
    "rolled_parameters_red = np.append(X_red, theta_red)"
   ]
  },
  {
   "cell_type": "code",
   "execution_count": 12,
   "metadata": {},
   "outputs": [
    {
     "name": "stdout",
     "output_type": "stream",
     "text": [
      "22.224603725685675\n"
     ]
    },
    {
     "data": {
      "text/plain": [
       "31.34405624427422"
      ]
     },
     "execution_count": 12,
     "metadata": {},
     "output_type": "execute_result"
    }
   ],
   "source": [
    "cost_function(rolled_parameters_red, Y_red, R_red, num_features)"
   ]
  },
  {
   "cell_type": "code",
   "execution_count": 13,
   "metadata": {},
   "outputs": [],
   "source": [
    "def gradient(rolled_parameters, Y, R, num_features, _lambda=1.5):\n",
    "    \n",
    "    # unroll and reshape\n",
    "    number_movies, number_users = Y.shape\n",
    "    X, theta = unroled_parameters(rolled_parameters, number_movies, number_users, num_features) \n",
    "    \n",
    "    # loop over movies to compute gradient X\n",
    "    X_grad = np.zeros((number_movies, num_features))\n",
    "    for i in range(number_movies):\n",
    "        idx = np.where( R[i,:] == 1)[0]\n",
    "        theta_tmp = theta[idx,:]\n",
    "        Y_tmp = Y[i,idx].reshape((len(Y[i,idx]),1))\n",
    "        \n",
    "        x = X[i,:].reshape((len(X[i,:]),1))\n",
    "        \n",
    "        X_grad[i,:] = (((theta_tmp @ x) - Y_tmp) * theta_tmp).sum(axis=0) + (_lambda * x).reshape(num_features)\n",
    "        \n",
    "    # loop over users to compute gradient theta\n",
    "    theta_grad = np.zeros((number_users, num_features))\n",
    "    for j in range(num_users):\n",
    "        idx = np.where( R[:,j] == 1)[0]\n",
    "        X_tmp = X[idx,:]\n",
    "        Y_tmp = Y[idx,j].reshape((len(Y[idx,j]),1))\n",
    "        \n",
    "        thetaj = theta[j,:].reshape((len(theta[j,:]),1))\n",
    "        \n",
    "        theta_grad[j,:] = (((X_tmp @ thetaj) - Y_tmp) * X_tmp).sum(axis=0) + (_lambda * thetaj).reshape(num_features)\n",
    "        \n",
    "    # concat\n",
    "    return np.append(X_grad, theta_grad)\n"
   ]
  },
  {
   "cell_type": "code",
   "execution_count": 14,
   "metadata": {},
   "outputs": [],
   "source": [
    "# gradient checking"
   ]
  },
  {
   "cell_type": "code",
   "execution_count": 15,
   "metadata": {},
   "outputs": [],
   "source": [
    "def check_gradient(rolled_parameters_red, Y_red, R_red, num_features):\n",
    "    e = 1e-4\n",
    "    n = rolled_parameters_red.shape[0]\n",
    "    \n",
    "    to_check = np.zeros(rolled_parameters_red.shape)\n",
    "    perturb = np.zeros(rolled_parameters_red.shape)\n",
    "    \n",
    "    grad = gradient(rolled_parameters_red, Y_red, R_red, num_features, 0)\n",
    "    \n",
    "    (rolled_parameters_red, Y_red, R_red, num_features)\n",
    "    \n",
    "    for i in range(n):\n",
    "        perturb[i] = e\n",
    "        loss1 = cost_function((rolled_parameters_red - perturb), Y_red, R_red, num_features, 0)\n",
    "        loss2 = cost_function((rolled_parameters_red + perturb), Y_red, R_red, num_features, 0)\n",
    "        numerical_gradient = (loss2 - loss1) / (2*e)\n",
    "        to_check[i] = numerical_gradient\n",
    "        perturb[i] = 0        \n",
    "        \n",
    "        print('---')\n",
    "        print(to_check[i] - grad[i])\n",
    "\n",
    "        if i == 20:\n",
    "            break\n",
    "        \n",
    "    return (to_check - grad).sum()"
   ]
  },
  {
   "cell_type": "code",
   "execution_count": 16,
   "metadata": {},
   "outputs": [
    {
     "name": "stdout",
     "output_type": "stream",
     "text": [
      "22.224856626532866\n",
      "22.224350828203647\n",
      "---\n",
      "-8.993694677883468e-12\n",
      "22.223846170594975\n",
      "22.225361311210914\n",
      "---\n",
      "-1.0763834268345818e-11\n",
      "22.224793705561407\n",
      "22.224413747509132\n",
      "---\n",
      "1.3945733456921516e-11\n",
      "22.224660545689616\n",
      "22.224546906496514\n",
      "---\n",
      "2.2608581673466688e-12\n",
      "22.224268474838134\n",
      "22.224939004900705\n",
      "---\n",
      "6.038280986331301e-12\n",
      "22.224656065876854\n",
      "22.224551386185862\n",
      "---\n",
      "7.516098854409847e-12\n",
      "22.224686966806374\n",
      "22.224520485379756\n",
      "---\n",
      "8.021250330614293e-12\n",
      "22.22411257657285\n",
      "22.225094903165985\n",
      "---\n",
      "-7.72892860823049e-12\n",
      "22.22468040390903\n",
      "22.22452704815369\n",
      "---\n",
      "-3.8469227803261674e-13\n",
      "22.224642084371528\n",
      "22.224565367814602\n",
      "---\n",
      "-6.6756045136173725e-12\n",
      "22.224377406171026\n",
      "22.224830073567812\n",
      "---\n",
      "7.80397968469515e-12\n",
      "22.224639060079646\n",
      "22.22456839198307\n",
      "---\n",
      "-6.422806730910224e-12\n",
      "22.22468410409921\n",
      "22.22452334808692\n",
      "---\n",
      "-8.145040197859998e-12\n",
      "22.22412946802695\n",
      "22.225078011711886\n",
      "---\n",
      "-5.270450742500543e-12\n",
      "22.22467776690244\n",
      "22.22452968516028\n",
      "---\n",
      "-8.196443523900143e-12\n",
      "22.225660543734868\n",
      "22.22354693969398\n",
      "---\n",
      "1.6981971384666394e-12\n",
      "22.22414095596988\n",
      "22.22506650800788\n",
      "---\n",
      "1.8314239014216582e-12\n",
      "22.225319741621924\n",
      "22.223887732735975\n",
      "---\n",
      "-4.992450897134404e-12\n",
      "22.224908830190788\n",
      "22.224298632177973\n",
      "---\n",
      "-3.653966018646315e-12\n",
      "22.224487285119658\n",
      "22.224720167853548\n",
      "---\n",
      "3.746114529690203e-12\n",
      "22.224951143603953\n",
      "22.22425632202661\n",
      "---\n",
      "8.539391416206854e-12\n"
     ]
    },
    {
     "data": {
      "text/plain": [
       "-9.82658399095726e-12"
      ]
     },
     "execution_count": 16,
     "metadata": {},
     "output_type": "execute_result"
    }
   ],
   "source": [
    "check_gradient(rolled_parameters_red, Y_red, R_red, 3)"
   ]
  },
  {
   "cell_type": "code",
   "execution_count": 17,
   "metadata": {},
   "outputs": [],
   "source": [
    "# regularisation added in function via _lambda != 0"
   ]
  },
  {
   "cell_type": "code",
   "execution_count": 18,
   "metadata": {},
   "outputs": [],
   "source": [
    "def collaborative_filtering(rolled_parameters, Y, R, num_features):\n",
    "    result = op.minimize(fun=cost_function, x0=rolled_parameters, args=(Y, R, num_features), method='TNC', jac=gradient)\n",
    "    return result.x    "
   ]
  },
  {
   "cell_type": "code",
   "execution_count": 19,
   "metadata": {},
   "outputs": [
    {
     "name": "stdout",
     "output_type": "stream",
     "text": [
      "22.224603725685675\n",
      "22.224603346327743\n",
      "22.22460334261128\n",
      "22.22460144553869\n",
      "320.1836909993188\n",
      "11.646781877132122\n",
      "2.8926462664989807\n",
      "2.8926462137272146\n",
      "2.8926463154176902\n",
      "4.514584707835423\n",
      "4.51458449409995\n",
      "4.51458471630364\n",
      "1.2512298550174321\n",
      "1.2512298699575553\n",
      "1.2512298538072686\n",
      "1.2512298548796421\n",
      "1.6818806148173175\n",
      "1.6818807353849485\n",
      "1.681880383304704\n",
      "1.681880634935352\n",
      "1.681880643643953\n",
      "1.6818806051466844\n",
      "1.6818805992829367\n",
      "1.6280202108335817\n",
      "1.628020222337687\n",
      "1.6280202101509196\n",
      "1.6740897536526511\n",
      "1.674089755116052\n",
      "1.6740897533478591\n",
      "1.6740897532677597\n",
      "1.6740897538427368\n",
      "1.6804843493973305\n",
      "1.6804841045512657\n",
      "1.6804844751016708\n",
      "1.6804843509457117\n",
      "1.6804843355384629\n",
      "1.6804843392314965\n",
      "1.6804843576028494\n",
      "1.679940767233778\n",
      "1.6799407672025475\n",
      "1.6799407671945839\n",
      "1.6799407671771645\n",
      "1.679940767176681\n",
      "1.6797919750712742\n",
      "1.679791975079109\n",
      "1.6797919750409562\n",
      "1.6798185467343119\n",
      "1.6798185467381046\n",
      "1.6798185467345792\n",
      "1.6798615310175893\n",
      "1.679861613792857\n",
      "1.6798612635863248\n",
      "1.6798615281545266\n",
      "1.6798615492589466\n",
      "1.6798615518267497\n",
      "1.6798615178302412\n",
      "1.6798396543036669\n",
      "1.6798396543036669\n"
     ]
    }
   ],
   "source": [
    "res = collaborative_filtering(rolled_parameters_red, Y_red, R_red, 3)"
   ]
  },
  {
   "cell_type": "code",
   "execution_count": 20,
   "metadata": {},
   "outputs": [
    {
     "name": "stdout",
     "output_type": "stream",
     "text": [
      "27918.64012454421\n",
      "27918.64011520473\n",
      "27918.640110371114\n",
      "27918.640110401782\n",
      "27918.640109977132\n",
      "27918.64011265148\n",
      "27918.640113202586\n",
      "27918.640115545848\n",
      "27918.640116586965\n",
      "27918.640117896997\n",
      "27918.64011818617\n",
      "27918.640119385986\n",
      "27918.640120043245\n",
      "27918.640119990992\n",
      "27918.640120531054\n",
      "27918.640121311288\n",
      "26671.603850347637\n",
      "26671.603833773606\n",
      "26671.60384255122\n",
      "26671.603840587504\n",
      "26671.603840237483\n",
      "26671.603839963613\n",
      "26671.60383684998\n",
      "26671.603836929648\n",
      "26671.60383812201\n",
      "26671.60384034434\n",
      "26671.60384251573\n",
      "26671.603843053916\n",
      "26671.603846800725\n",
      "26354.42305354736\n",
      "26354.42304904592\n",
      "26354.42305106046\n",
      "26354.423048918437\n",
      "26354.42304887276\n",
      "26354.423047555756\n",
      "26354.423047203138\n",
      "26354.423046892396\n",
      "26354.423049010195\n",
      "26354.423050079316\n",
      "26354.42305092871\n",
      "26253.93864761664\n",
      "26253.93864581075\n",
      "26253.93864641202\n",
      "26253.938645199236\n",
      "26253.938645394195\n",
      "26253.93864446715\n",
      "26253.938644700444\n",
      "26253.938644868223\n",
      "26253.93864532594\n",
      "26253.938645924496\n",
      "26209.21680332616\n",
      "26209.216802691444\n",
      "26209.2168030243\n",
      "26209.21680251543\n",
      "26209.21680220183\n",
      "26209.216801614766\n",
      "26209.216801893028\n",
      "26209.21680214805\n",
      "26209.2168023506\n",
      "26209.2168029895\n",
      "26191.868402701846\n",
      "26191.86840206926\n",
      "26191.86840247693\n",
      "26191.8684022455\n",
      "26191.868402135497\n",
      "26191.868401828284\n",
      "26191.868401784082\n",
      "26191.868401868258\n",
      "26191.86840186649\n",
      "26191.868402399086\n",
      "26179.740905234623\n",
      "26179.740892361828\n",
      "26179.740889441084\n",
      "26179.740873346946\n",
      "26179.740893063576\n",
      "26179.74089693461\n",
      "26179.740902104484\n",
      "26179.74090171453\n",
      "26179.740901334517\n",
      "26179.740904854818\n",
      "26179.740905873994\n",
      "26179.74090637283\n",
      "26179.74090572876\n",
      "26179.74090895464\n",
      "26179.740913881058\n",
      "26179.740923283473\n",
      "26179.74091217175\n",
      "26179.740906817755\n",
      "26179.740905427047\n",
      "26178.585849653344\n",
      "26178.58585013742\n",
      "26178.58584952998\n",
      "26178.58584698882\n",
      "26178.585846909926\n",
      "26178.58584660034\n",
      "26178.585847232596\n",
      "26178.585847721086\n",
      "26178.58585010563\n",
      "26178.58585086943\n",
      "26178.585849883264\n",
      "26178.58584883227\n",
      "26178.585851128333\n",
      "26178.58585414215\n",
      "26178.58585465655\n",
      "26178.58585458693\n",
      "26178.585854360263\n",
      "26179.57545626744\n",
      "26179.575456072078\n",
      "26179.575456025705\n",
      "26179.57545770832\n",
      "26179.575459061532\n",
      "26179.575458904885\n",
      "26179.575458708427\n",
      "26179.57546044551\n",
      "26179.575461088327\n",
      "26179.575459535154\n",
      "26179.575458203442\n",
      "26179.575457328392\n",
      "26179.575457114086\n",
      "26179.575456720624\n",
      "26182.0288458937\n",
      "26182.028846161513\n",
      "26182.02884560752\n",
      "26182.02884475134\n",
      "26182.028843454817\n",
      "26182.02884255007\n",
      "26182.02884129494\n",
      "26182.028840829465\n",
      "26182.02884147753\n",
      "26182.028841519466\n",
      "26182.028842406606\n",
      "26182.028842444255\n",
      "26182.02884282852\n",
      "26182.028841077437\n",
      "26182.028840524676\n",
      "26182.028841624287\n",
      "26175.412399925877\n",
      "26175.41239923369\n",
      "26175.41239933795\n",
      "26175.412399098117\n",
      "26175.41239912276\n",
      "26175.41239923788\n",
      "26175.41239880476\n",
      "26175.41239903963\n",
      "26175.412399255663\n",
      "26175.412399477023\n",
      "26175.41239956368\n",
      "26175.412399503195\n",
      "26175.412399509827\n",
      "26175.412399686455\n",
      "26173.93776609454\n",
      "26173.937766071598\n",
      "26173.93776604607\n",
      "26173.937766116916\n",
      "26173.93776614775\n",
      "26173.93776616719\n",
      "26173.937766216182\n",
      "26173.93776631998\n",
      "26173.937766384293\n",
      "26173.9377662615\n",
      "26173.93776620252\n",
      "26174.151981395193\n",
      "26174.15198275712\n",
      "26174.151981948642\n",
      "26174.151981688086\n",
      "26174.151982309522\n",
      "26174.15198362899\n",
      "26174.151981899697\n",
      "26174.15198220384\n",
      "26174.15198350194\n",
      "26174.1519852689\n",
      "26174.15198817049\n",
      "26174.151989185262\n",
      "26174.151989089314\n",
      "26174.151986615016\n",
      "26174.151986707133\n",
      "26174.151988948004\n",
      "26174.15198756127\n",
      "26174.15198728523\n",
      "26174.151988992144\n",
      "26174.151990695296\n",
      "26174.151994687723\n",
      "26174.151990657607\n",
      "26174.151991062\n",
      "26174.151990197344\n",
      "26174.15199289511\n",
      "26174.151991617306\n",
      "26174.151991988136\n",
      "26174.151992728992\n",
      "26174.15199441085\n",
      "26174.151990547783\n",
      "26174.15198744052\n",
      "26174.151985959565\n",
      "26174.151985767116\n",
      "26174.712437215094\n",
      "26174.712437710048\n",
      "26174.712439722825\n",
      "26174.712439387073\n",
      "26174.712438695587\n",
      "26174.712438602965\n",
      "26174.712438123155\n",
      "26174.712438142178\n",
      "26174.71243838117\n",
      "26174.71243811032\n",
      "26174.71243808515\n",
      "26174.7124378369\n",
      "26174.712437811573\n",
      "26174.712437673486\n",
      "26174.712437743143\n",
      "26174.71243776861\n",
      "26174.712437988663\n",
      "26174.712437685677\n",
      "26174.712437574195\n",
      "26174.71243729298\n",
      "26174.712437072303\n",
      "26174.81751310831\n",
      "26174.817512956488\n",
      "26174.817512642927\n",
      "26174.817512467744\n",
      "26174.817512193986\n",
      "26174.817512469195\n",
      "26174.817512196063\n",
      "26174.81751206417\n",
      "26174.817512170044\n",
      "26174.817512379363\n",
      "26174.817512546488\n",
      "26174.817512959387\n",
      "26174.81751298464\n",
      "26174.81751302573\n",
      "26174.74153407685\n",
      "26174.74153402677\n",
      "26174.741534030287\n",
      "26174.74153407311\n",
      "26174.741534137887\n",
      "26174.74153408185\n",
      "26174.741533928296\n",
      "26174.74153389628\n",
      "26174.74153389457\n",
      "26174.741533911852\n",
      "26174.74153381996\n",
      "26174.741533861106\n",
      "26174.7415338401\n",
      "26174.741533899076\n",
      "26174.741533999917\n",
      "26174.741534055305\n",
      "26174.710995569018\n",
      "26174.710995586258\n",
      "26174.71099561016\n",
      "26174.71099561239\n",
      "26174.710995622165\n",
      "26174.71099561356\n",
      "26174.710995628648\n",
      "26174.710995625872\n",
      "26174.71099560409\n",
      "26174.71099559351\n",
      "26174.710995582704\n",
      "26174.710995554182\n",
      "26174.71099558721\n",
      "26174.71099559057\n",
      "26174.710995588397\n",
      "26174.71099558718\n",
      "26174.71099558106\n",
      "26174.710995588415\n",
      "26174.71099560122\n",
      "26174.710995621026\n",
      "26174.710995614\n",
      "26174.710995604306\n",
      "26174.710995611364\n",
      "26174.710995579553\n",
      "26174.710995579568\n",
      "26174.710995574733\n",
      "26174.710995560126\n",
      "26174.71099554953\n",
      "26174.71099554292\n",
      "26174.710995557467\n",
      "26174.71099555202\n",
      "26174.71099555432\n",
      "26174.71099556364\n",
      "26174.710995566307\n",
      "26174.7238008303\n",
      "26174.723800839674\n",
      "26174.72380084623\n",
      "26174.723800845713\n",
      "26174.723800857344\n",
      "26174.72380085112\n",
      "26174.723800850767\n",
      "26174.723800842774\n",
      "26174.723800837386\n",
      "26174.72380082993\n",
      "26174.723800821088\n",
      "26174.72380082161\n",
      "26174.723800813943\n",
      "26174.723800811822\n",
      "26174.723800815267\n",
      "26174.723800822052\n",
      "26174.7238008176\n",
      "26174.723800819585\n",
      "26174.723800828495\n",
      "26174.723800834836\n",
      "26174.72380082716\n",
      "26174.72380083489\n",
      "26174.72380083548\n",
      "26174.723800831627\n",
      "26174.72380082865\n",
      "26174.723800830812\n",
      "26174.72380083028\n",
      "26174.723800833348\n",
      "26174.723800835414\n",
      "26174.72380083971\n",
      "26174.723800843298\n",
      "26174.723800844928\n",
      "26174.723800839864\n",
      "26174.72380084039\n",
      "26174.72380083961\n",
      "26174.72380083819\n",
      "26174.72781676162\n",
      "26174.7278158155\n",
      "26174.727815949616\n",
      "26174.72781611682\n",
      "26174.72766091956\n",
      "26174.72766092304\n",
      "26174.727660748613\n",
      "26174.727660514156\n",
      "26174.727660793396\n",
      "26174.727660838496\n",
      "26174.727660675315\n",
      "26174.727660738623\n",
      "26174.72766084185\n",
      "26174.727660776363\n",
      "26174.727454866836\n",
      "26174.727454839493\n",
      "26174.72745481302\n",
      "26174.727454826123\n",
      "26174.727203190752\n",
      "26174.72720315753\n",
      "26174.72720314325\n",
      "26174.726947424\n",
      "26174.726947398933\n",
      "26174.72694742174\n",
      "26174.7267684372\n",
      "26174.7267684372\n"
     ]
    }
   ],
   "source": [
    "res = collaborative_filtering(rolled_parameters, Y, R, 10)"
   ]
  },
  {
   "cell_type": "code",
   "execution_count": 21,
   "metadata": {},
   "outputs": [
    {
     "data": {
      "text/plain": [
       "array([ 1.08359062, -0.40205115,  1.25540469, ...,  1.28423703,\n",
       "       -0.98349993, -0.53184838])"
      ]
     },
     "execution_count": 21,
     "metadata": {},
     "output_type": "execute_result"
    }
   ],
   "source": [
    "res"
   ]
  },
  {
   "cell_type": "code",
   "execution_count": 22,
   "metadata": {},
   "outputs": [],
   "source": [
    "# predict "
   ]
  },
  {
   "cell_type": "code",
   "execution_count": 35,
   "metadata": {},
   "outputs": [
    {
     "name": "stdout",
     "output_type": "stream",
     "text": [
      "1682\n",
      "943\n"
     ]
    }
   ],
   "source": [
    "number_movies, number_users = Y.shape\n",
    "print(number_movies)\n",
    "print(number_users)\n",
    "X, theta = unroled_parameters(res, number_movies, number_users, 10) "
   ]
  },
  {
   "cell_type": "code",
   "execution_count": 30,
   "metadata": {},
   "outputs": [],
   "source": [
    "Ypred = X @ theta.T"
   ]
  },
  {
   "cell_type": "code",
   "execution_count": 39,
   "metadata": {},
   "outputs": [
    {
     "data": {
      "text/plain": [
       "array([3.72616315, 3.13017623, 3.32097265, ..., 1.01872527, 1.71562154,\n",
       "       2.2377962 ])"
      ]
     },
     "execution_count": 39,
     "metadata": {},
     "output_type": "execute_result"
    }
   ],
   "source": [
    "# rating for user 0\n",
    "Ypred[:,0]"
   ]
  },
  {
   "cell_type": "code",
   "execution_count": null,
   "metadata": {},
   "outputs": [],
   "source": []
  }
 ],
 "metadata": {
  "kernelspec": {
   "display_name": "Python 3",
   "language": "python",
   "name": "python3"
  },
  "language_info": {
   "codemirror_mode": {
    "name": "ipython",
    "version": 3
   },
   "file_extension": ".py",
   "mimetype": "text/x-python",
   "name": "python",
   "nbconvert_exporter": "python",
   "pygments_lexer": "ipython3",
   "version": "3.6.6"
  }
 },
 "nbformat": 4,
 "nbformat_minor": 2
}
