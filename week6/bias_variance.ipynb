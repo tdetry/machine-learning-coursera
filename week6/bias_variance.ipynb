{
 "cells": [
  {
   "cell_type": "markdown",
   "metadata": {},
   "source": [
    "What to do next?  \n",
    "- Get more training examples\n",
    "- Try smaller  sets of features\n",
    "- Try get addiDonal features\n",
    "- Try adding'polynomial'features\n",
    "- Try decreasing lambda\n",
    "- Try increasing lambda  \n",
    "=> Diagnostic"
   ]
  },
  {
   "cell_type": "markdown",
   "metadata": {},
   "source": [
    "This notebook implements regularized linear regression and use it to study models with different bias-variance properties.  \n",
    "High Bias -> underfit  \n",
    "High Variance  -> overfit"
   ]
  },
  {
   "cell_type": "code",
   "execution_count": 1,
   "metadata": {},
   "outputs": [],
   "source": [
    "import numpy as np\n",
    "import scipy.io as sio\n",
    "import matplotlib.pyplot as plt\n",
    "from scipy import optimize as op"
   ]
  },
  {
   "cell_type": "code",
   "execution_count": 2,
   "metadata": {},
   "outputs": [],
   "source": [
    "data = sio.loadmat('./data/ex5data1.mat')"
   ]
  },
  {
   "cell_type": "code",
   "execution_count": 3,
   "metadata": {
    "scrolled": true
   },
   "outputs": [
    {
     "name": "stdout",
     "output_type": "stream",
     "text": [
      "(12, 1)\n",
      "(21, 1)\n",
      "(21, 1)\n"
     ]
    }
   ],
   "source": [
    "# training set\n",
    "X = np.array(data['X'])\n",
    "y = np.array(data['y'])\n",
    "print(X.shape)\n",
    "\n",
    "# cross validation set\n",
    "Xval = np.array(data['Xval'])\n",
    "yval = np.array(data['yval'])\n",
    "print(Xval.shape)\n",
    "\n",
    "# test set\n",
    "Xtest = np.array(data['Xtest'])\n",
    "ytest = np.array(data['ytest'])\n",
    "print(Xtest.shape)\n",
    "\n",
    "# all data\n",
    "Xall = np.concatenate((X, Xtest, Xval), axis=None)\n",
    "yall = np.concatenate((y, ytest, yval), axis=None)"
   ]
  },
  {
   "cell_type": "markdown",
   "metadata": {},
   "source": [
    "1.1 Visualizing the dataset"
   ]
  },
  {
   "cell_type": "code",
   "execution_count": 4,
   "metadata": {},
   "outputs": [
    {
     "data": {
      "image/png": "[encoded data removed]",
      "text/plain": [
       "<Figure size 432x288 with 1 Axes>"
      ]
     },
     "metadata": {
      "needs_background": "light"
     },
     "output_type": "display_data"
    }
   ],
   "source": [
    "fig, ax = plt.subplots()\n",
    "ax.scatter(Xall, yall, color='green')\n",
    "ax.scatter(X, y, marker='x', color='red')\n",
    "ax.set_xlabel('Change in water level (x)')\n",
    "ax.set_ylabel('Water flowing out of the dam (y)')\n",
    "plt.show()"
   ]
  },
  {
   "cell_type": "markdown",
   "metadata": {},
   "source": [
    "I decided to consider that all features always have intercept."
   ]
  },
  {
   "cell_type": "code",
   "execution_count": 5,
   "metadata": {},
   "outputs": [],
   "source": [
    "def add_intercept(X):\n",
    "    ones = np.ones((len(X), 1))\n",
    "    return np.hstack((ones, X))"
   ]
  },
  {
   "cell_type": "code",
   "execution_count": 6,
   "metadata": {},
   "outputs": [],
   "source": [
    "X = add_intercept(X)\n",
    "Xval = add_intercept(Xval)\n",
    "Xtest = add_intercept(Xtest)"
   ]
  },
  {
   "cell_type": "markdown",
   "metadata": {},
   "source": [
    "1.2 Regularized linear regression cost function"
   ]
  },
  {
   "cell_type": "code",
   "execution_count": 7,
   "metadata": {},
   "outputs": [],
   "source": [
    "def cost_function(theta, X, y, _lambda):\n",
    "    m, n = X.shape\n",
    "    \n",
    "    pred = (X @ theta).reshape(m, 1)\n",
    "    \n",
    "    error_to_sum = (pred - y) ** 2\n",
    "    \n",
    "    return (1/(2*m)) * ( error_to_sum.sum() + (_lambda * (theta[1:] ** 2).sum()))"
   ]
  },
  {
   "cell_type": "code",
   "execution_count": 8,
   "metadata": {},
   "outputs": [],
   "source": [
    "theta = np.ones(2)"
   ]
  },
  {
   "cell_type": "code",
   "execution_count": 9,
   "metadata": {},
   "outputs": [
    {
     "data": {
      "text/plain": [
       "303.9931922202643"
      ]
     },
     "execution_count": 9,
     "metadata": {},
     "output_type": "execute_result"
    }
   ],
   "source": [
    "cost_function(theta, X, y, 1)"
   ]
  },
  {
   "cell_type": "markdown",
   "metadata": {},
   "source": [
    "1.3 Regularized linear regression gradient"
   ]
  },
  {
   "cell_type": "code",
   "execution_count": 10,
   "metadata": {},
   "outputs": [],
   "source": [
    "def gradient(theta, X, y, _lambda):\n",
    "    m, n = X.shape\n",
    "    \n",
    "    pred = (X @ theta).reshape(m, 1)\n",
    "    \n",
    "    grad = ((1/m) * (pred - y).T @ X).reshape(theta.shape[0])\n",
    "    \n",
    "    grad[1:] = grad[1:] + ((_lambda / m ) * theta[1:])\n",
    "\n",
    "    return grad"
   ]
  },
  {
   "cell_type": "code",
   "execution_count": 11,
   "metadata": {},
   "outputs": [
    {
     "data": {
      "text/plain": [
       "array([-15.30301567, 598.25074417])"
      ]
     },
     "execution_count": 11,
     "metadata": {},
     "output_type": "execute_result"
    }
   ],
   "source": [
    "gradient(theta, X, y, 1)"
   ]
  },
  {
   "cell_type": "markdown",
   "metadata": {},
   "source": [
    "1.4 Fitting linear regression"
   ]
  },
  {
   "cell_type": "code",
   "execution_count": 12,
   "metadata": {},
   "outputs": [],
   "source": [
    "def linear_regression(X, y, theta0, _lambda):\n",
    "    result = op.minimize(fun=cost_function, x0=theta0, args=(X, y, _lambda), method='TNC', jac=gradient)\n",
    "    return result.x    "
   ]
  },
  {
   "cell_type": "code",
   "execution_count": 13,
   "metadata": {},
   "outputs": [
    {
     "name": "stdout",
     "output_type": "stream",
     "text": [
      "[13.0879035   0.36777923]\n"
     ]
    }
   ],
   "source": [
    "optimal_theta = linear_regression(X, y, np.zeros(2), 0)\n",
    "print(optimal_theta)"
   ]
  },
  {
   "cell_type": "code",
   "execution_count": 15,
   "metadata": {},
   "outputs": [
    {
     "name": "stdout",
     "output_type": "stream",
     "text": [
      "[[13.08790351  0.36777923]]\n"
     ]
    }
   ],
   "source": [
    "# quick check\n",
    "from sklearn.linear_model import LinearRegression\n",
    "reg = LinearRegression(fit_intercept=False).fit(X, y)\n",
    "print(reg.coef_)"
   ]
  },
  {
   "cell_type": "code",
   "execution_count": 16,
   "metadata": {},
   "outputs": [],
   "source": [
    "def predict(theta, X):\n",
    "    m, n = X.shape\n",
    "        \n",
    "    theta = theta.reshape((n,1))\n",
    "        \n",
    "    return X @ theta"
   ]
  },
  {
   "cell_type": "code",
   "execution_count": 17,
   "metadata": {},
   "outputs": [],
   "source": [
    "line = add_intercept(np.arange(-60,60).reshape((120,1)))\n",
    "ypred = predict(optimal_theta, line)"
   ]
  },
  {
   "cell_type": "code",
   "execution_count": 18,
   "metadata": {},
   "outputs": [
    {
     "data": {
      "image/png": "[encoded data removed]",
      "text/plain": [
       "<Figure size 432x288 with 1 Axes>"
      ]
     },
     "metadata": {
      "needs_background": "light"
     },
     "output_type": "display_data"
    }
   ],
   "source": [
    "fig, ax = plt.subplots()\n",
    "ax.scatter(X[:,1], y)\n",
    "ax.plot(line[:,1], ypred, color='orange')\n",
    "plt.show()"
   ]
  },
  {
   "cell_type": "markdown",
   "metadata": {},
   "source": [
    "2 Bias-variance"
   ]
  },
  {
   "cell_type": "markdown",
   "metadata": {},
   "source": [
    "**Learning curve** plots training and cross validation error as a function of training set size. "
   ]
  },
  {
   "cell_type": "code",
   "execution_count": 19,
   "metadata": {},
   "outputs": [],
   "source": [
    "def shuffle(X, y):\n",
    "    randomize = np.arange(len(X))\n",
    "    np.random.shuffle(randomize)\n",
    "    return X[randomize], y[randomize]"
   ]
  },
  {
   "cell_type": "code",
   "execution_count": 20,
   "metadata": {},
   "outputs": [],
   "source": [
    "def learning_curves(X, Xval, y, yval, _lambda):\n",
    "    \n",
    "    m, n = X.shape\n",
    "    \n",
    "    error_train = []\n",
    "    error_val = []\n",
    "    \n",
    "    X, y = shuffle(X, y)\n",
    "    \n",
    "    for i in range(m):\n",
    "        Xm = X[0:i+1,:]\n",
    "        ym = y[0:i+1,:]\n",
    "        \n",
    "        optimal_theta = linear_regression(Xm, ym, np.zeros(n), _lambda)\n",
    "        \n",
    "        error_train.append(cost_function(optimal_theta, Xm, ym, 0))\n",
    "              \n",
    "        error_val.append(cost_function(optimal_theta, Xval, yval, 0))\n",
    "        \n",
    "    return error_train, error_val"
   ]
  },
  {
   "cell_type": "code",
   "execution_count": 21,
   "metadata": {},
   "outputs": [
    {
     "data": {
      "image/png": "[encoded data removed]",
      "text/plain": [
       "<Figure size 432x288 with 1 Axes>"
      ]
     },
     "metadata": {
      "needs_background": "light"
     },
     "output_type": "display_data"
    }
   ],
   "source": [
    "error_train, error_val = learning_curves(X, Xval, y, yval, 0)\n",
    "fig, ax = plt.subplots()\n",
    "ax.plot(range(1, 13), error_train, label='Train')\n",
    "ax.plot(range(1, 13), error_val, label='Cross Validation')\n",
    "ax.set_xlabel('Number of training examples')\n",
    "ax.set_ylim(0, 100)\n",
    "ax.legend()\n",
    "plt.show()"
   ]
  },
  {
   "cell_type": "markdown",
   "metadata": {},
   "source": [
    "3 Polynomial regression"
   ]
  },
  {
   "cell_type": "code",
   "execution_count": 22,
   "metadata": {},
   "outputs": [],
   "source": [
    "def add_polynomials(X, column, p):\n",
    "    m, n  = X.shape\n",
    "    \n",
    "    X_poly = np.concatenate((X, np.zeros((m, p))), axis=1)\n",
    "    \n",
    "    for x in range(p):\n",
    "        X_poly[:,n+x] = X[:,column] ** (x+2)\n",
    "    \n",
    "    return X_poly"
   ]
  },
  {
   "cell_type": "code",
   "execution_count": 23,
   "metadata": {
    "scrolled": true
   },
   "outputs": [
    {
     "data": {
      "text/plain": [
       "array([[  0.,   1.,   2.,   0.,   0.],\n",
       "       [  3.,   4.,   5.,   9.,  27.],\n",
       "       [  6.,   7.,   8.,  36., 216.]])"
      ]
     },
     "execution_count": 23,
     "metadata": {},
     "output_type": "execute_result"
    }
   ],
   "source": [
    "test = np.arange(9).reshape((3,3))\n",
    "add_polynomials(test, 0, 2)"
   ]
  },
  {
   "cell_type": "code",
   "execution_count": 24,
   "metadata": {},
   "outputs": [],
   "source": [
    "def normalize(X):\n",
    "    normal = (X[:,1:] - X[:,1:].mean(axis=0)) / X[:,1:].std(axis=0)\n",
    "    return add_intercept(normal), X.mean(axis=0), X.std(axis=0)"
   ]
  },
  {
   "cell_type": "code",
   "execution_count": 25,
   "metadata": {},
   "outputs": [
    {
     "name": "stdout",
     "output_type": "stream",
     "text": [
      "mean [1. 0. 0.]\n",
      "std [0. 1. 1.]\n"
     ]
    }
   ],
   "source": [
    "# check normalise data have means 0 and std 1.\n",
    "print('mean', normalize(test)[0].mean(axis=0))\n",
    "print('std', normalize(test)[0].std(axis=0))"
   ]
  },
  {
   "cell_type": "code",
   "execution_count": 26,
   "metadata": {},
   "outputs": [],
   "source": [
    "X_poly = add_polynomials(X, 1, 8) "
   ]
  },
  {
   "cell_type": "code",
   "execution_count": 27,
   "metadata": {},
   "outputs": [],
   "source": [
    "X_poly_norm, X_mu, X_std = normalize(X_poly)"
   ]
  },
  {
   "cell_type": "code",
   "execution_count": 28,
   "metadata": {},
   "outputs": [
    {
     "data": {
      "image/png": "[encoded data removed]",
      "text/plain": [
       "<Figure size 468x468 with 4 Axes>"
      ]
     },
     "metadata": {
      "needs_background": "light"
     },
     "output_type": "display_data"
    }
   ],
   "source": [
    "fig, ax = plt.subplots(nrows=2, ncols=2, figsize=(6.5,6.5))\n",
    "ax[0,0].scatter(X_poly[:,1], y)\n",
    "ax[0,0].set_title('X1')\n",
    "ax[0,1].scatter(X_poly_norm[:,1], y)\n",
    "ax[0,1].set_title('X1 Normalised')\n",
    "ax[1,0].scatter(X_poly[:,2], y)\n",
    "ax[1,0].set_title('X2')\n",
    "ax[1,1].scatter(X_poly_norm[:,2], y)\n",
    "ax[1,1].set_title('X2 Normalised')\n",
    "plt.show()"
   ]
  },
  {
   "cell_type": "markdown",
   "metadata": {},
   "source": [
    "3.1 Learning Polynomial Regression"
   ]
  },
  {
   "cell_type": "markdown",
   "metadata": {},
   "source": [
    "No regularistion, lambda = 0 "
   ]
  },
  {
   "cell_type": "code",
   "execution_count": 29,
   "metadata": {},
   "outputs": [],
   "source": [
    "theta0 = np.zeros(X_poly_norm.shape[1])\n",
    "optimal_theta = linear_regression(X_poly_norm, y, theta0, 0)\n",
    "ypred = predict(optimal_theta, X_poly_norm)"
   ]
  },
  {
   "cell_type": "code",
   "execution_count": 30,
   "metadata": {},
   "outputs": [
    {
     "data": {
      "image/png": "[encoded data removed]",
      "text/plain": [
       "<Figure size 432x288 with 1 Axes>"
      ]
     },
     "metadata": {
      "needs_background": "light"
     },
     "output_type": "display_data"
    }
   ],
   "source": [
    "fig, ax = plt.subplots()\n",
    "ax.scatter(X[:,1], y, marker='x', color='red')\n",
    "ax.scatter(X[:,1], ypred, marker='_')\n",
    "plt.show()"
   ]
  },
  {
   "cell_type": "code",
   "execution_count": 31,
   "metadata": {},
   "outputs": [],
   "source": [
    "line = np.linspace(-60,60).reshape((-1,1))\n",
    "line = add_intercept(line)\n",
    "line_poly = add_polynomials(line,1,8)\n",
    "line_poly_norm = (line_poly[:,1:] - X_mu[1:]) / X_std[1:]\n",
    "line_poly_norm = add_intercept(line_poly_norm)"
   ]
  },
  {
   "cell_type": "code",
   "execution_count": 32,
   "metadata": {},
   "outputs": [],
   "source": [
    "ypred = predict(optimal_theta, line_poly_norm)"
   ]
  },
  {
   "cell_type": "code",
   "execution_count": 33,
   "metadata": {},
   "outputs": [
    {
     "data": {
      "image/png": "[encoded data removed]",
      "text/plain": [
       "<Figure size 432x288 with 1 Axes>"
      ]
     },
     "metadata": {
      "needs_background": "light"
     },
     "output_type": "display_data"
    }
   ],
   "source": [
    "# I don't understand why I don't get the same shape for the line.\n",
    "fig, ax = plt.subplots()\n",
    "ax.scatter(X[:,1], y)\n",
    "ax.plot(line[:,1], ypred)\n",
    "plt.show()"
   ]
  },
  {
   "cell_type": "markdown",
   "metadata": {},
   "source": [
    "Validation and test set needs to go through same transformation as X. Note that normalisation needs to happen with X parameters."
   ]
  },
  {
   "cell_type": "code",
   "execution_count": 34,
   "metadata": {},
   "outputs": [],
   "source": [
    "Xval_poly = add_polynomials(Xval,1,8)\n",
    "Xval_poly_norm = (Xval_poly[:,1:] - X_mu[1:]) / X_std[1:]\n",
    "Xval_poly_norm = add_intercept(Xval_poly_norm)"
   ]
  },
  {
   "cell_type": "code",
   "execution_count": 35,
   "metadata": {},
   "outputs": [],
   "source": [
    "Xtest_poly = add_polynomials(Xtest,1,8)\n",
    "Xtest_poly_norm = (Xtest_poly[:,1:] - X_mu[1:]) / X_std[1:]\n",
    "Xtest_poly_norm = add_intercept(Xtest_poly_norm)"
   ]
  },
  {
   "cell_type": "code",
   "execution_count": 36,
   "metadata": {},
   "outputs": [
    {
     "data": {
      "image/png": "[encoded data removed]",
      "text/plain": [
       "<Figure size 432x288 with 1 Axes>"
      ]
     },
     "metadata": {
      "needs_background": "light"
     },
     "output_type": "display_data"
    }
   ],
   "source": [
    "error_train, error_val = learning_curves(X_poly_norm, Xval_poly_norm, y, yval, 0)\n",
    "fig, ax = plt.subplots()\n",
    "ax.plot(range(1, 13), error_train, label='Train')\n",
    "ax.plot(range(1, 13), error_val, label='Cross Validation')\n",
    "ax.set_xlabel('Number of training examples')\n",
    "ax.set_ylim(0, 100)\n",
    "ax.legend()\n",
    "plt.show()"
   ]
  },
  {
   "cell_type": "markdown",
   "metadata": {},
   "source": [
    "3.2 Adjusting the regularization parameter"
   ]
  },
  {
   "cell_type": "code",
   "execution_count": 37,
   "metadata": {},
   "outputs": [],
   "source": [
    "# lamdba = 1\n",
    "theta0 = np.zeros(X_poly_norm.shape[1])\n",
    "optimal_theta = linear_regression(X_poly_norm, y, theta0, 1)\n",
    "ypred = predict(optimal_theta, X_poly_norm)"
   ]
  },
  {
   "cell_type": "code",
   "execution_count": 38,
   "metadata": {},
   "outputs": [
    {
     "data": {
      "image/png": "[encoded data removed]",
      "text/plain": [
       "<Figure size 432x288 with 1 Axes>"
      ]
     },
     "metadata": {
      "needs_background": "light"
     },
     "output_type": "display_data"
    }
   ],
   "source": [
    "fig, ax = plt.subplots()\n",
    "ax.scatter(X[:,1], y, marker='x', color='red')\n",
    "ax.scatter(X_poly[:,1], ypred, marker='_')\n",
    "plt.show()"
   ]
  },
  {
   "cell_type": "code",
   "execution_count": 39,
   "metadata": {},
   "outputs": [],
   "source": [
    "line = np.linspace(-60,60).reshape((-1,1))\n",
    "line = add_intercept(line)\n",
    "line_poly = add_polynomials(line,1,8)\n",
    "line_poly_norm = (line_poly[:,1:] - X_mu[1:]) / X_std[1:]\n",
    "line_poly_norm = add_intercept(line_poly_norm)"
   ]
  },
  {
   "cell_type": "code",
   "execution_count": 40,
   "metadata": {},
   "outputs": [],
   "source": [
    "ypred = predict(optimal_theta, line_poly_norm)"
   ]
  },
  {
   "cell_type": "code",
   "execution_count": 41,
   "metadata": {
    "scrolled": true
   },
   "outputs": [
    {
     "data": {
      "image/png": "[encoded data removed]",
      "text/plain": [
       "<Figure size 432x288 with 1 Axes>"
      ]
     },
     "metadata": {
      "needs_background": "light"
     },
     "output_type": "display_data"
    }
   ],
   "source": [
    "fig, ax = plt.subplots()\n",
    "ax.scatter(X[:,1], y)\n",
    "ax.plot(line[:,1], ypred)\n",
    "plt.show()"
   ]
  },
  {
   "cell_type": "code",
   "execution_count": 42,
   "metadata": {},
   "outputs": [],
   "source": [
    "# lamdba = 100\n",
    "theta0 = np.zeros(X_poly_norm.shape[1])\n",
    "optimal_theta = linear_regression(X_poly_norm, y, theta0, 100)\n",
    "ypred = predict(optimal_theta, X_poly_norm)"
   ]
  },
  {
   "cell_type": "code",
   "execution_count": 43,
   "metadata": {},
   "outputs": [
    {
     "data": {
      "image/png": "[encoded data removed]",
      "text/plain": [
       "<Figure size 432x288 with 1 Axes>"
      ]
     },
     "metadata": {
      "needs_background": "light"
     },
     "output_type": "display_data"
    }
   ],
   "source": [
    "fig, ax = plt.subplots()\n",
    "ax.scatter(X[:,1], y, marker='x', color='red')\n",
    "ax.scatter(X_poly[:,1], ypred, marker='_')\n",
    "plt.show()"
   ]
  },
  {
   "cell_type": "code",
   "execution_count": 44,
   "metadata": {},
   "outputs": [],
   "source": [
    "line = np.linspace(-60,60).reshape((-1,1))\n",
    "line = add_intercept(line)\n",
    "line_poly = add_polynomials(line,1,8)\n",
    "line_poly_norm = (line_poly[:,1:] - X_mu[1:]) / X_std[1:]\n",
    "line_poly_norm = add_intercept(line_poly_norm)"
   ]
  },
  {
   "cell_type": "code",
   "execution_count": 45,
   "metadata": {},
   "outputs": [],
   "source": [
    "ypred = predict(optimal_theta, line_poly_norm)"
   ]
  },
  {
   "cell_type": "code",
   "execution_count": 46,
   "metadata": {
    "scrolled": true
   },
   "outputs": [
    {
     "data": {
      "image/png": "[encoded data removed]",
      "text/plain": [
       "<Figure size 432x288 with 1 Axes>"
      ]
     },
     "metadata": {
      "needs_background": "light"
     },
     "output_type": "display_data"
    }
   ],
   "source": [
    "fig, ax = plt.subplots()\n",
    "ax.scatter(X[:,1], y)\n",
    "ax.plot(line[:,1], ypred)\n",
    "plt.show()"
   ]
  },
  {
   "cell_type": "code",
   "execution_count": 47,
   "metadata": {},
   "outputs": [
    {
     "data": {
      "image/png": "[encoded data removed]",
      "text/plain": [
       "<Figure size 432x288 with 1 Axes>"
      ]
     },
     "metadata": {
      "needs_background": "light"
     },
     "output_type": "display_data"
    }
   ],
   "source": [
    "error_train, error_val = learning_curves(X_poly_norm, Xval_poly_norm, y, yval, 1)\n",
    "fig, ax = plt.subplots()\n",
    "ax.plot(range(1, 13), error_train, label='Train')\n",
    "ax.plot(range(1, 13), error_val, label='Cross Validation')\n",
    "ax.set_xlabel('Number of training examples')\n",
    "ax.set_ylim(0, 100)\n",
    "ax.legend()\n",
    "plt.show()"
   ]
  },
  {
   "cell_type": "markdown",
   "metadata": {},
   "source": [
    "3.3 Selecting λ using a cross validation set"
   ]
  },
  {
   "cell_type": "code",
   "execution_count": 48,
   "metadata": {},
   "outputs": [],
   "source": [
    "_lambda = [0, 0.001, 0.003, 0.01, 0.03, 0.1, 0.3, 1, 3, 10]"
   ]
  },
  {
   "cell_type": "code",
   "execution_count": 49,
   "metadata": {},
   "outputs": [],
   "source": [
    "def cross_validation(X, Xval, y, yval, _lambda):\n",
    "    \n",
    "    m, n = X.shape\n",
    "    \n",
    "    error_train = []\n",
    "    error_val = []\n",
    "    \n",
    "    for i in _lambda:\n",
    "\n",
    "        optimal_theta = linear_regression(X, y, np.zeros(n), i)\n",
    "        \n",
    "        error_train.append(cost_function(optimal_theta, X, y, 0))\n",
    "              \n",
    "        error_val.append(cost_function(optimal_theta, Xval, yval, 0))\n",
    "        \n",
    "    return error_train, error_val"
   ]
  },
  {
   "cell_type": "code",
   "execution_count": 50,
   "metadata": {},
   "outputs": [
    {
     "data": {
      "image/png": "[encoded data removed]",
      "text/plain": [
       "<Figure size 432x288 with 1 Axes>"
      ]
     },
     "metadata": {
      "needs_background": "light"
     },
     "output_type": "display_data"
    }
   ],
   "source": [
    "error_train, error_val = cross_validation(X_poly_norm, Xval_poly_norm, y, yval, _lambda)\n",
    "fig, ax = plt.subplots()\n",
    "ax.plot(_lambda, error_train, label='Train')\n",
    "ax.plot(_lambda, error_val, label='Cross Validation')\n",
    "ax.set_xlabel('Lambda')\n",
    "ax.set_ylim(0, 20)\n",
    "ax.set_xlim(0, 10)\n",
    "ax.legend()\n",
    "plt.show()"
   ]
  },
  {
   "cell_type": "markdown",
   "metadata": {},
   "source": [
    "3.4 Computing test set error"
   ]
  },
  {
   "cell_type": "code",
   "execution_count": 51,
   "metadata": {},
   "outputs": [
    {
     "name": "stdout",
     "output_type": "stream",
     "text": [
      "3.7774298147570207\n",
      "4.060444545290692\n"
     ]
    }
   ],
   "source": [
    "# lamdba = 3\n",
    "theta0 = np.zeros(X_poly_norm.shape[1])\n",
    "optimal_theta = linear_regression(X_poly_norm, y, theta0, 3)\n",
    "print(cost_function(optimal_theta, Xtest_poly_norm, ytest, 0))\n",
    "print(cost_function(optimal_theta, Xval_poly_norm, yval, 0))"
   ]
  },
  {
   "cell_type": "code",
   "execution_count": null,
   "metadata": {},
   "outputs": [],
   "source": []
  }
 ],
 "metadata": {
  "kernelspec": {
   "display_name": "Python 3",
   "language": "python",
   "name": "python3"
  },
  "language_info": {
   "codemirror_mode": {
    "name": "ipython",
    "version": 3
   },
   "file_extension": ".py",
   "mimetype": "text/x-python",
   "name": "python",
   "nbconvert_exporter": "python",
   "pygments_lexer": "ipython3",
   "version": "3.6.6"
  }
 },
 "nbformat": 4,
 "nbformat_minor": 2
}
