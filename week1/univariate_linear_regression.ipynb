{
 "cells": [
  {
   "cell_type": "markdown",
   "metadata": {},
   "source": [
    "There was no assignment for week 1. However, as the course is thaugh in Octave instead of Pyton, let's use it as an opportunity to get familiar with https://www.scipy.org/. "
   ]
  },
  {
   "cell_type": "code",
   "execution_count": 1,
   "metadata": {},
   "outputs": [],
   "source": [
    "import numpy as np\n",
    "import matplotlib.pyplot as plt\n",
    "from sklearn.linear_model import LinearRegression\n",
    "from scipy import stats as st"
   ]
  },
  {
   "cell_type": "markdown",
   "metadata": {},
   "source": [
    "### Learning about 'matrix' and linear algebra in Python"
   ]
  },
  {
   "cell_type": "markdown",
   "metadata": {},
   "source": [
    "<div class=\"alert alert-block alert-warning\">\n",
    "<p><b>Dimension and shape</b></p> \n",
    "    While working with Python and Numpy, I've come accross lots of undesired effects due to the shape of my data.  Indeed, lot's of functions are influenced by those in Numpy. See for exemple, <a href=\"https://docs.scipy.org/doc/numpy-1.15.1/reference/generated/numpy.matmul.html\">matmul</a>. \n",
    "    In addition, printing the shape is of great help while debuging your algorithm!\n",
    "</div>"
   ]
  },
  {
   "cell_type": "code",
   "execution_count": 2,
   "metadata": {},
   "outputs": [
    {
     "name": "stdout",
     "output_type": "stream",
     "text": [
      "[[ 0  1  2  3  4]\n",
      " [ 5  6  7  8  9]\n",
      " [10 11 12 13 14]]\n",
      "(3, 5)\n",
      "<class 'numpy.ndarray'>\n",
      "2\n",
      "int32\n",
      "7\n"
     ]
    }
   ],
   "source": [
    "a = np.arange(15).reshape(3, 5)\n",
    "print(a)\n",
    "print(a.shape)\n",
    "print(type(a))\n",
    "print(a.ndim)\n",
    "print(a.dtype.name)\n",
    "print(a[1,2])"
   ]
  },
  {
   "cell_type": "code",
   "execution_count": 3,
   "metadata": {},
   "outputs": [
    {
     "name": "stdout",
     "output_type": "stream",
     "text": [
      "[0 0 0 0]\n",
      "[20 30 40 50]\n",
      "[10 15 20 25]\n"
     ]
    }
   ],
   "source": [
    "b = np.arange( 10, 30, 5 )\n",
    "c = np.arange( 10, 30, 5 )\n",
    "d = b + c\n",
    "e = 2 * c\n",
    "f = np.transpose(b)\n",
    "print(e - d)\n",
    "print(d)\n",
    "print(f)"
   ]
  },
  {
   "cell_type": "code",
   "execution_count": 4,
   "metadata": {},
   "outputs": [
    {
     "name": "stdout",
     "output_type": "stream",
     "text": [
      "[[0 1 2]\n",
      " [3 4 5]\n",
      " [6 7 8]]\n",
      "a (3, 3)\n",
      "a 2\n",
      "[1. 1. 1.]\n",
      "b (3,)\n",
      "b 1\n",
      "[0 1 2]\n",
      "c (3,)\n",
      "c 1\n"
     ]
    }
   ],
   "source": [
    "a = np.arange(9).reshape((3, 3))\n",
    "print(a)\n",
    "print('a', a.shape) \n",
    "print('a', a.ndim) \n",
    "\n",
    "b = np.ones(3).reshape(3)\n",
    "print(b)\n",
    "print('b', b.shape)\n",
    "print('b', b.ndim) \n",
    "\n",
    "c = np.arange(3).reshape(3)\n",
    "print(c)\n",
    "print('c', c.shape)\n",
    "print('c', c.ndim) "
   ]
  },
  {
   "cell_type": "markdown",
   "metadata": {},
   "source": [
    "### np.dot  \n",
    "Dot product of two arrays.  \n",
    "- If both a and b are 1-D arrays, it is inner product of vectors (without complex conjugation).\n",
    "- If both a and b are 2-D arrays, it is matrix multiplication, but using matmul or a @ b is preferred.\n",
    "- If either a or b is 0-D (scalar), it is equivalent to multiply and using numpy.multiply(a, b) or a * b is preferred."
   ]
  },
  {
   "cell_type": "code",
   "execution_count": 5,
   "metadata": {},
   "outputs": [
    {
     "data": {
      "text/plain": [
       "2"
      ]
     },
     "execution_count": 5,
     "metadata": {},
     "output_type": "execute_result"
    }
   ],
   "source": [
    "np.dot(2,1)"
   ]
  },
  {
   "cell_type": "code",
   "execution_count": 6,
   "metadata": {},
   "outputs": [
    {
     "name": "stdout",
     "output_type": "stream",
     "text": [
      "[[ 3.]\n",
      " [12.]\n",
      " [21.]]\n"
     ]
    },
    {
     "data": {
      "text/plain": [
       "array([[ True],\n",
       "       [ True],\n",
       "       [ True]])"
      ]
     },
     "execution_count": 6,
     "metadata": {},
     "output_type": "execute_result"
    }
   ],
   "source": [
    "# (3,3) x (3,1) = (3,1)\n",
    "print(np.dot(a, b.reshape(3,1)))\n",
    "a.dot(b.reshape(3,1)) == np.dot(a, b.reshape(3,1)) "
   ]
  },
  {
   "cell_type": "code",
   "execution_count": 7,
   "metadata": {},
   "outputs": [
    {
     "data": {
      "text/plain": [
       "array([[0, 0, 0],\n",
       "       [0, 0, 0],\n",
       "       [0, 0, 0]])"
      ]
     },
     "execution_count": 7,
     "metadata": {},
     "output_type": "execute_result"
    }
   ],
   "source": [
    "np.dot(a,2) - (a * 2)"
   ]
  },
  {
   "cell_type": "markdown",
   "metadata": {},
   "source": [
    "### np.matmul  \n",
    "Matrix product of two arrays.  \n",
    "- If both arguments are 2-D they are multiplied like conventional matrices.\n",
    "- If the first argument is 1-D, it is promoted to a matrix by prepending a 1 to its dimensions. After matrix multiplication the prepended 1 is removed.\n",
    "- If the second argument is 1-D, it is promoted to a matrix by appending a 1 to its dimensions. After matrix multiplication the appended 1 is removed."
   ]
  },
  {
   "cell_type": "code",
   "execution_count": 8,
   "metadata": {},
   "outputs": [
    {
     "name": "stdout",
     "output_type": "stream",
     "text": [
      "[[ 3.]\n",
      " [12.]\n",
      " [21.]]\n",
      "[[ True]\n",
      " [ True]\n",
      " [ True]]\n"
     ]
    },
    {
     "data": {
      "text/plain": [
       "array([[ True, False, False],\n",
       "       [False,  True, False],\n",
       "       [False, False,  True]])"
      ]
     },
     "execution_count": 8,
     "metadata": {},
     "output_type": "execute_result"
    }
   ],
   "source": [
    "print(a @ b.reshape((3,1)))\n",
    "print(a @ b.reshape((3,1)) == np.matmul(a, b.reshape((3,1))))\n",
    "a @ b.reshape((3,1)) == np.matmul(a, b)"
   ]
  },
  {
   "cell_type": "code",
   "execution_count": 9,
   "metadata": {},
   "outputs": [
    {
     "data": {
      "text/plain": [
       "array([ 3., 12., 21.])"
      ]
     },
     "execution_count": 9,
     "metadata": {},
     "output_type": "execute_result"
    }
   ],
   "source": [
    "a @ b"
   ]
  },
  {
   "cell_type": "markdown",
   "metadata": {},
   "source": [
    "### np.multiply\n",
    "Multiply arguments element-wise"
   ]
  },
  {
   "cell_type": "code",
   "execution_count": 10,
   "metadata": {},
   "outputs": [
    {
     "name": "stdout",
     "output_type": "stream",
     "text": [
      "[[0. 1. 2.]\n",
      " [3. 4. 5.]\n",
      " [6. 7. 8.]]\n"
     ]
    },
    {
     "data": {
      "text/plain": [
       "array([[ True,  True,  True],\n",
       "       [ True,  True,  True],\n",
       "       [ True,  True,  True]])"
      ]
     },
     "execution_count": 10,
     "metadata": {},
     "output_type": "execute_result"
    }
   ],
   "source": [
    "print(a * b)\n",
    "a * b == np.multiply(a, b)"
   ]
  },
  {
   "cell_type": "code",
   "execution_count": 11,
   "metadata": {},
   "outputs": [
    {
     "data": {
      "text/plain": [
       "array([[ 0,  1,  4],\n",
       "       [ 0,  4, 10],\n",
       "       [ 0,  7, 16]])"
      ]
     },
     "execution_count": 11,
     "metadata": {},
     "output_type": "execute_result"
    }
   ],
   "source": [
    "a * c"
   ]
  },
  {
   "cell_type": "code",
   "execution_count": 12,
   "metadata": {},
   "outputs": [
    {
     "data": {
      "text/plain": [
       "array([0., 1., 2.])"
      ]
     },
     "execution_count": 12,
     "metadata": {},
     "output_type": "execute_result"
    }
   ],
   "source": [
    "b * c"
   ]
  },
  {
   "cell_type": "code",
   "execution_count": 13,
   "metadata": {},
   "outputs": [
    {
     "data": {
      "text/plain": [
       "array([0., 1., 2.])"
      ]
     },
     "execution_count": 13,
     "metadata": {},
     "output_type": "execute_result"
    }
   ],
   "source": [
    "c * b"
   ]
  },
  {
   "cell_type": "markdown",
   "metadata": {},
   "source": [
    "### Let's generate some data"
   ]
  },
  {
   "cell_type": "code",
   "execution_count": 14,
   "metadata": {},
   "outputs": [],
   "source": [
    "num_observations = 100\n",
    "mean = [0, 5]\n",
    "cov = [[1, 0.9],\n",
    "       [0.9, 1]]\n",
    "\n",
    "x = np.random.multivariate_normal(mean, cov, num_observations)\n",
    "\n",
    "y = x[:,0]\n",
    "X = x[:,1]"
   ]
  },
  {
   "cell_type": "code",
   "execution_count": 15,
   "metadata": {},
   "outputs": [
    {
     "name": "stdout",
     "output_type": "stream",
     "text": [
      "1\n",
      "(100,)\n",
      "(100,)\n"
     ]
    }
   ],
   "source": [
    "print(y.ndim)\n",
    "print(y.shape)\n",
    "print(X.shape)"
   ]
  },
  {
   "cell_type": "code",
   "execution_count": 16,
   "metadata": {},
   "outputs": [
    {
     "data": {
      "image/png": "[encoded data removed]",
      "text/plain": [
       "<Figure size 432x288 with 1 Axes>"
      ]
     },
     "metadata": {
      "needs_background": "light"
     },
     "output_type": "display_data"
    }
   ],
   "source": [
    "fig, ax = plt.subplots()\n",
    "ax.scatter(X, y)\n",
    "ax.scatter(X.mean(), y.mean())\n",
    "plt.show()"
   ]
  },
  {
   "cell_type": "markdown",
   "metadata": {},
   "source": [
    "### Univariate linear regression"
   ]
  },
  {
   "cell_type": "markdown",
   "metadata": {},
   "source": [
    "Let's try a **dirty** implementation of univariate linear regression."
   ]
  },
  {
   "cell_type": "code",
   "execution_count": 17,
   "metadata": {},
   "outputs": [],
   "source": [
    "def predict(theta0, theta1, X):\n",
    "    return theta0 + theta1 * X"
   ]
  },
  {
   "cell_type": "code",
   "execution_count": 18,
   "metadata": {},
   "outputs": [],
   "source": [
    "def loss(y, y_pred):\n",
    "    return sum([data**2 for data in (y-y_pred)]) / (2*float(len(y)))"
   ]
  },
  {
   "cell_type": "markdown",
   "metadata": {},
   "source": [
    "What happen if we predict always the mean?"
   ]
  },
  {
   "cell_type": "code",
   "execution_count": 19,
   "metadata": {},
   "outputs": [
    {
     "name": "stdout",
     "output_type": "stream",
     "text": [
      "0.5820145777515909\n"
     ]
    }
   ],
   "source": [
    "print(loss(y,y.mean()))"
   ]
  },
  {
   "cell_type": "markdown",
   "metadata": {},
   "source": [
    "### Gradient descent (univariate)"
   ]
  },
  {
   "cell_type": "code",
   "execution_count": 20,
   "metadata": {},
   "outputs": [],
   "source": [
    "def gradient_univariate_linear(X, y):\n",
    "    theta0 = 0\n",
    "    theta1 = 0\n",
    "    learning_rate = 0.01\n",
    "    max_iters = 10000\n",
    "    \n",
    "    m = float(len(y))\n",
    "    \n",
    "    cost = []\n",
    "    \n",
    "    for i in range(max_iters):\n",
    "        y_pred = predict(theta0, theta1, X)\n",
    "        \n",
    "        # to keep track of the cost over the iterations\n",
    "        cost.append(loss(y, y_pred))\n",
    "        \n",
    "        delta_theta0 = (1/m) * sum(y_pred - y)\n",
    "        delta_theta1 = (1/m) * sum((y_pred - y)*X)\n",
    "        \n",
    "        theta0 = theta0 - learning_rate * delta_theta0\n",
    "        theta1 = theta1 - learning_rate * delta_theta1\n",
    "        \n",
    "    return theta0, theta1, cost"
   ]
  },
  {
   "cell_type": "code",
   "execution_count": 21,
   "metadata": {
    "scrolled": true
   },
   "outputs": [],
   "source": [
    "theta0, theta1, cost  = gradient_univariate_linear(X, y)\n",
    "y_pred = predict(theta0, theta1, X)"
   ]
  },
  {
   "cell_type": "code",
   "execution_count": 22,
   "metadata": {},
   "outputs": [
    {
     "data": {
      "image/png": "[encoded data removed]",
      "text/plain": [
       "<Figure size 432x288 with 1 Axes>"
      ]
     },
     "metadata": {
      "needs_background": "light"
     },
     "output_type": "display_data"
    }
   ],
   "source": [
    "fig, ax = plt.subplots()\n",
    "fig.suptitle('Cost over iterations')\n",
    "ax.plot(range(10000), cost)\n",
    "plt.show()"
   ]
  },
  {
   "cell_type": "code",
   "execution_count": 23,
   "metadata": {},
   "outputs": [
    {
     "data": {
      "image/png": "[encoded data removed]",
      "text/plain": [
       "<Figure size 432x288 with 1 Axes>"
      ]
     },
     "metadata": {
      "needs_background": "light"
     },
     "output_type": "display_data"
    }
   ],
   "source": [
    "fig, ax = plt.subplots()\n",
    "ax.scatter(X, y)\n",
    "ax.plot(X, y_pred, color='red')\n",
    "plt.show()"
   ]
  },
  {
   "cell_type": "markdown",
   "metadata": {},
   "source": [
    "## Sklearn"
   ]
  },
  {
   "cell_type": "markdown",
   "metadata": {},
   "source": [
    "Most of the algorithms presented during the course are already developed and optimised in https://scikit-learn.org/. I'll often use this library for error-checking."
   ]
  },
  {
   "cell_type": "code",
   "execution_count": 24,
   "metadata": {},
   "outputs": [
    {
     "name": "stdout",
     "output_type": "stream",
     "text": [
      "thetha0 [-4.61875186]\n",
      "thetha1 [[0.92808116]]\n",
      "R sq:  0.8555668272434659\n",
      "Correlation:  0.9249685547322491\n"
     ]
    }
   ],
   "source": [
    "reg = LinearRegression()\n",
    "\n",
    "X_training_set = X.reshape(-1,1)\n",
    "y_training_set = y.reshape(-1,1)\n",
    "\n",
    "reg.fit(X_training_set, y_training_set)\n",
    "reg.score(X_training_set, y_training_set)\n",
    "\n",
    "# Coeficient\n",
    "print('thetha0', reg.intercept_)\n",
    "print('thetha1', reg.coef_)\n",
    "\n",
    "# Have a look at R sq to give an idea of the fit \n",
    "print('R sq: ',reg.score(X_training_set,y_training_set))\n",
    "\n",
    "# and so the correlation is..\n",
    "print('Correlation: ', np.sqrt(reg.score(X_training_set, y_training_set)))"
   ]
  },
  {
   "cell_type": "markdown",
   "metadata": {},
   "source": [
    "The coefficient R^2 is defined as (1 - u/v), where u is the residual sum of squares ((y_true - y_pred) ** 2).sum() and v is the total sum of squares ((y_true - y_true.mean()) ** 2).sum(). The best possible score is 1.0 and it can be negative (because the model can be arbitrarily worse). A constant model that always predicts the expected value of y, disregarding the input features, would get a R^2 score of 0.0."
   ]
  },
  {
   "cell_type": "code",
   "execution_count": 25,
   "metadata": {},
   "outputs": [
    {
     "name": "stdout",
     "output_type": "stream",
     "text": [
      "0.8554123057263698\n"
     ]
    }
   ],
   "source": [
    "R = 1 - (cost[-1]/loss(y,y.mean()))\n",
    "print(R)"
   ]
  },
  {
   "cell_type": "markdown",
   "metadata": {},
   "source": [
    "Our results are in line with scikit :)"
   ]
  }
 ],
 "metadata": {
  "kernelspec": {
   "display_name": "Python 3",
   "language": "python",
   "name": "python3"
  },
  "language_info": {
   "codemirror_mode": {
    "name": "ipython",
    "version": 3
   },
   "file_extension": ".py",
   "mimetype": "text/x-python",
   "name": "python",
   "nbconvert_exporter": "python",
   "pygments_lexer": "ipython3",
   "version": "3.6.6"
  }
 },
 "nbformat": 4,
 "nbformat_minor": 2
}
